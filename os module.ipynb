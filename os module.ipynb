{
 "cells": [
  {
   "cell_type": "code",
   "execution_count": 1,
   "id": "55c10f50",
   "metadata": {},
   "outputs": [
    {
     "name": "stdout",
     "output_type": "stream",
     "text": [
      "['DirEntry', 'F_OK', 'GenericAlias', 'Mapping', 'MutableMapping', 'O_APPEND', 'O_BINARY', 'O_CREAT', 'O_EXCL', 'O_NOINHERIT', 'O_RANDOM', 'O_RDONLY', 'O_RDWR', 'O_SEQUENTIAL', 'O_SHORT_LIVED', 'O_TEMPORARY', 'O_TEXT', 'O_TRUNC', 'O_WRONLY', 'P_DETACH', 'P_NOWAIT', 'P_NOWAITO', 'P_OVERLAY', 'P_WAIT', 'PathLike', 'R_OK', 'SEEK_CUR', 'SEEK_END', 'SEEK_SET', 'TMP_MAX', 'W_OK', 'X_OK', '_AddedDllDirectory', '_Environ', '__all__', '__builtins__', '__cached__', '__doc__', '__file__', '__loader__', '__name__', '__package__', '__spec__', '_check_methods', '_execvpe', '_exists', '_exit', '_fspath', '_get_exports_list', '_walk', '_wrap_close', 'abc', 'abort', 'access', 'add_dll_directory', 'altsep', 'chdir', 'chmod', 'close', 'closerange', 'cpu_count', 'curdir', 'defpath', 'device_encoding', 'devnull', 'dup', 'dup2', 'environ', 'error', 'execl', 'execle', 'execlp', 'execlpe', 'execv', 'execve', 'execvp', 'execvpe', 'extsep', 'fdopen', 'fsdecode', 'fsencode', 'fspath', 'fstat', 'fsync', 'ftruncate', 'get_exec_path', 'get_handle_inheritable', 'get_inheritable', 'get_terminal_size', 'getcwd', 'getcwdb', 'getenv', 'getlogin', 'getpid', 'getppid', 'isatty', 'kill', 'linesep', 'link', 'listdir', 'lseek', 'lstat', 'makedirs', 'mkdir', 'name', 'open', 'pardir', 'path', 'pathsep', 'pipe', 'popen', 'putenv', 'read', 'readlink', 'remove', 'removedirs', 'rename', 'renames', 'replace', 'rmdir', 'scandir', 'sep', 'set_handle_inheritable', 'set_inheritable', 'spawnl', 'spawnle', 'spawnv', 'spawnve', 'st', 'startfile', 'stat', 'stat_result', 'statvfs_result', 'strerror', 'supports_bytes_environ', 'supports_dir_fd', 'supports_effective_ids', 'supports_fd', 'supports_follow_symlinks', 'symlink', 'sys', 'system', 'terminal_size', 'times', 'times_result', 'truncate', 'umask', 'uname_result', 'unlink', 'unsetenv', 'urandom', 'utime', 'waitpid', 'waitstatus_to_exitcode', 'walk', 'write']\n"
     ]
    }
   ],
   "source": [
    "import os\n",
    "print(dir(os))"
   ]
  },
  {
   "cell_type": "code",
   "execution_count": 2,
   "id": "227dd09f",
   "metadata": {},
   "outputs": [
    {
     "data": {
      "text/plain": [
       "'C:\\\\Users\\\\Daniyar Syrlybayev\\\\Desktop'"
      ]
     },
     "execution_count": 2,
     "metadata": {},
     "output_type": "execute_result"
    }
   ],
   "source": [
    "#print current directory\n",
    "os.getcwd()"
   ]
  },
  {
   "cell_type": "code",
   "execution_count": 7,
   "id": "94b90b3f",
   "metadata": {},
   "outputs": [
    {
     "data": {
      "text/plain": [
       "'C:\\\\Users\\\\Daniyar Syrlybayev\\\\Downloads'"
      ]
     },
     "execution_count": 7,
     "metadata": {},
     "output_type": "execute_result"
    }
   ],
   "source": [
    "#change directory\n",
    "os.chdir(r\"\\Users\\Daniyar Syrlybayev\\Downloads\")\n",
    "os.getcwd()"
   ]
  },
  {
   "cell_type": "code",
   "execution_count": 8,
   "id": "28c2b70b",
   "metadata": {},
   "outputs": [
    {
     "name": "stdout",
     "output_type": "stream",
     "text": [
      "['1-s2.0-S0020740320307888-main.pdf', '1-s2.0-S0263822317304725-main.pdf', '1-s2.0-S026412751830073X-main.pdf', '1-s2.0-S0264127519300176-main.pdf', '1-s2.0-S0264127519300681-main.pdf', '1-s2.0-S0921509318303253-main.pdf', '1-s2.0-S0921509319306008-main.pdf', '1-s2.0-S1005030220305697-main.pdf', '1-s2.0-S2212827117311988-main.pdf', '1-s2.0-S2214860420305947-main.pdf', '10.1016@j.acme.2018.03.007.pdf', '10.1016@j.msea.2013.07.070.pdf', 'Adv Eng Mater - 2019 - Fr mert - Investment Casting and Mechanical Properties of Open‐Cell Steel Foams.pdf', 'Anaconda3-2021.11-Windows-x86_64.exe', 'C1_W2 (1).pdf', 'C1_W2.pdf', 'C1_W3.pdf', 'C2_W1 (1).pdf', 'C2_W1.pdf', 'C2_W2 (1).pdf', 'C2_W3.pdf', 'combinepdf.pdf', 'Course Requirements and Registration Priorities-School of Engineering and Digital Sciences (Master), Spring 2022.pdf', 'Coursera BWRK2987GD9E.pdf', 'coursera-master.zip', 'DANIYAR SYRLYBAYEV BANK.pdf', 'Daniyar_Syrlybayev_CV.pdf', 'desktop.ini', 'Diploma_Syrlybayev.pdf', 'drive-download-20220110T040745Z-001.zip', 'EDI40_PROCS_Template (1).doc', 'Enrollment_Verification_Daniyar_Syrlybayev.pdf', 'ID_Syrlybayev.pdf', 'Information card for RA - If you do not have agreement yet.pdf', 'Information card for RA.pdf', 'Intermediate Python Programming Course.mp4', \"Jan Erik Solem - Programming Computer Vision with Python_ Tools and algorithms for analyzing images-O'Reilly Media (2012).pdf\", 'Jeong_CrackPhaseField.zip', 'Joseph Howse, Joe Minichino - Learning OpenCV 4 Computer Vision with Python 3_ Get to grips with tools, techniques, and algorithms for computer vision and machine learning-Packt Publishing (2020).pdf', 'LearnAbaqusScriptInOneHour.pdf', 'maskery2016.pdf', 'materials-14-06484-v2.pdf', 'Matplotlib Tutorial (Part 1)_ Creating and Customizing Our First Plots.mp4', 'Object Oriented Programming with Python - Full Course for Beginners.mp4', 'OpenCV_Lecture_2018Oct_rus.pdf', 'pinto2014.pdf', 'polymers-12-02939.pdf', 'polymers-13-03849 (1).pdf', 'polymers-13-03849.pdf', 'Puri G.M. - Python Scripts for ABAQUS_ Learn by Example.pdf', 'RA Report Syrlybayev_Daniyar (1).docx', 'RA Report Template (SEDS) (1).docx', 'RA Report Template (SEDS).docx', 'RA Report Template _ Daniyar_Syrlybayev.docx', 'Report Syrlybayev D..pdf', 'Robust Optimisation of Mechanical Properties of ABS Parts Produced by the FFF Process - Final.pdf', 'school_schedule_by_term (1).pdf', 'school_schedule_by_term (2).pdf', 'school_schedule_by_term.pdf', 'sexy_russian_hot_wife_nika - русское частное порно домашнее секс студентка юная.mp4', 'Singiresu S. Rao - Engineering Optimization - Theory and Practice-Wiley (2009).pdf', 'stack-overflow-developer-survey-2019.zip', 'TensorFlow 2.0 Complete Course - Python Neural Networks for Beginners Tutorial.mp4', 'ticket (1).pdf', 'ticket (2).pdf', 'ticket.pdf', 'ubuntu-20.04.3-desktop-amd64.iso', 'Week_3', 'wei2020.pdf', 'WhatsApp Image 2021-12-28 at 20.39.14.jpeg', 'Zoom_cm_ds_mGpH4qO2fdxWGAlmnhugDEBXv76Nh0bU15QML@aktqISIiQ0pC29Av_kb8bab092d50db479_.exe', 'Аннигиляция.mkv', 'Безумно Богатые Азиаты.mkv', 'Договор Данияр Сырлыбаев №№1611-2021_33-28 от 02.08.2021.zip', 'Нефть.mkv', 'Однажды В Голливуде.mkv', 'Побег Из Шоушенка.mkv', 'Справка  №5143_ 5144 (1).zip', 'Справка  №5143_ 5144.zip', 'Справка №7166 (1).zip', 'Справка №7166.zip']\n"
     ]
    }
   ],
   "source": [
    "#See what files and forlders in currect directory\n",
    "print(os.listdir())"
   ]
  },
  {
   "cell_type": "code",
   "execution_count": 9,
   "id": "ff00734a",
   "metadata": {},
   "outputs": [],
   "source": [
    "#create directory in the current location\n",
    "os.makedirs(\"OS-Demo-2\")"
   ]
  },
  {
   "cell_type": "code",
   "execution_count": 10,
   "id": "ef08275f",
   "metadata": {},
   "outputs": [],
   "source": [
    "#create subdir make within another dir OS-Demo-3\n",
    "os.makedirs(\"OS-Demo-3/make\")"
   ]
  },
  {
   "cell_type": "code",
   "execution_count": 11,
   "id": "6f344108",
   "metadata": {},
   "outputs": [],
   "source": [
    "#Remove dirctories\n",
    "os.removedirs(\"OS-Demo-3/make\")\n",
    "os.removedirs(\"OS-Demo-2\")"
   ]
  },
  {
   "cell_type": "code",
   "execution_count": 18,
   "id": "d1b4fc07",
   "metadata": {},
   "outputs": [],
   "source": [
    "#rename file or folder\n",
    "os.makedirs(\"OS-Demo-2\")\n",
    "os.rename(\"OS-Demo-2\", \"Demo-2\")"
   ]
  },
  {
   "cell_type": "code",
   "execution_count": 23,
   "id": "3631a711",
   "metadata": {},
   "outputs": [],
   "source": [
    "os.rmdir(\"Demo-2\")"
   ]
  },
  {
   "cell_type": "code",
   "execution_count": 25,
   "id": "dbfd5581",
   "metadata": {},
   "outputs": [
    {
     "name": "stdout",
     "output_type": "stream",
     "text": [
      "os.stat_result(st_mode=16895, st_ino=34058472182045814, st_dev=578117507, st_nlink=1, st_uid=0, st_gid=0, st_size=0, st_atime=1641931032, st_mtime=1641931032, st_ctime=1641931032)\n"
     ]
    }
   ],
   "source": [
    "#Get information about the files\n",
    "os.mkdir(\"Demo2\")\n",
    "print(os.stat(\"Demo2\"))"
   ]
  },
  {
   "cell_type": "code",
   "execution_count": 28,
   "id": "16849be4",
   "metadata": {},
   "outputs": [
    {
     "name": "stdout",
     "output_type": "stream",
     "text": [
      "C:\\Users\\Daniyar Syrlybayev\\Downloads\n",
      "['Demo2', 'Week_3']\n",
      "['1-s2.0-S0020740320307888-main.pdf', '1-s2.0-S0263822317304725-main.pdf', '1-s2.0-S026412751830073X-main.pdf', '1-s2.0-S0264127519300176-main.pdf', '1-s2.0-S0264127519300681-main.pdf', '1-s2.0-S0921509318303253-main.pdf', '1-s2.0-S0921509319306008-main.pdf', '1-s2.0-S1005030220305697-main.pdf', '1-s2.0-S2212827117311988-main.pdf', '1-s2.0-S2214860420305947-main.pdf', '10.1016@j.acme.2018.03.007.pdf', '10.1016@j.msea.2013.07.070.pdf', 'Adv Eng Mater - 2019 - Fr mert - Investment Casting and Mechanical Properties of Open‐Cell Steel Foams.pdf', 'Anaconda3-2021.11-Windows-x86_64.exe', 'C1_W2 (1).pdf', 'C1_W2.pdf', 'C1_W3.pdf', 'C2_W1 (1).pdf', 'C2_W1.pdf', 'C2_W2 (1).pdf', 'C2_W3.pdf', 'combinepdf.pdf', 'Course Requirements and Registration Priorities-School of Engineering and Digital Sciences (Master), Spring 2022.pdf', 'Coursera BWRK2987GD9E.pdf', 'coursera-master.zip', 'DANIYAR SYRLYBAYEV BANK.pdf', 'Daniyar_Syrlybayev_CV.pdf', 'desktop.ini', 'Diploma_Syrlybayev.pdf', 'drive-download-20220110T040745Z-001.zip', 'EDI40_PROCS_Template (1).doc', 'Enrollment_Verification_Daniyar_Syrlybayev.pdf', 'ID_Syrlybayev.pdf', 'Information card for RA - If you do not have agreement yet.pdf', 'Information card for RA.pdf', 'Intermediate Python Programming Course.mp4', \"Jan Erik Solem - Programming Computer Vision with Python_ Tools and algorithms for analyzing images-O'Reilly Media (2012).pdf\", 'Jeong_CrackPhaseField.zip', 'Joseph Howse, Joe Minichino - Learning OpenCV 4 Computer Vision with Python 3_ Get to grips with tools, techniques, and algorithms for computer vision and machine learning-Packt Publishing (2020).pdf', 'LearnAbaqusScriptInOneHour.pdf', 'maskery2016.pdf', 'materials-14-06484-v2.pdf', 'Matplotlib Tutorial (Part 1)_ Creating and Customizing Our First Plots.mp4', 'Object Oriented Programming with Python - Full Course for Beginners.mp4', 'OpenCV_Lecture_2018Oct_rus.pdf', 'pinto2014.pdf', 'polymers-12-02939.pdf', 'polymers-13-03849 (1).pdf', 'polymers-13-03849.pdf', 'Puri G.M. - Python Scripts for ABAQUS_ Learn by Example.pdf', 'RA Report Syrlybayev_Daniyar (1).docx', 'RA Report Template (SEDS) (1).docx', 'RA Report Template (SEDS).docx', 'RA Report Template _ Daniyar_Syrlybayev.docx', 'Report Syrlybayev D..pdf', 'Robust Optimisation of Mechanical Properties of ABS Parts Produced by the FFF Process - Final.pdf', 'school_schedule_by_term (1).pdf', 'school_schedule_by_term (2).pdf', 'school_schedule_by_term.pdf', 'sexy_russian_hot_wife_nika - русское частное порно домашнее секс студентка юная.mp4', 'Singiresu S. Rao - Engineering Optimization - Theory and Practice-Wiley (2009).pdf', 'stack-overflow-developer-survey-2019.zip', 'TensorFlow 2.0 Complete Course - Python Neural Networks for Beginners Tutorial.mp4', 'ticket (1).pdf', 'ticket (2).pdf', 'ticket.pdf', 'ubuntu-20.04.3-desktop-amd64.iso', 'wei2020.pdf', 'WhatsApp Image 2021-12-28 at 20.39.14.jpeg', 'Zoom_cm_ds_mGpH4qO2fdxWGAlmnhugDEBXv76Nh0bU15QML@aktqISIiQ0pC29Av_kb8bab092d50db479_.exe', 'Аннигиляция.mkv', 'Безумно Богатые Азиаты.mkv', 'Договор Данияр Сырлыбаев №№1611-2021_33-28 от 02.08.2021.zip', 'Нефть.mkv', 'Однажды В Голливуде.mkv', 'Побег Из Шоушенка.mkv', 'Справка  №5143_ 5144 (1).zip', 'Справка  №5143_ 5144.zip', 'Справка №7166 (1).zip', 'Справка №7166.zip']\n",
      "\n",
      "C:\\Users\\Daniyar Syrlybayev\\Downloads\\Demo2\n",
      "[]\n",
      "[]\n",
      "\n",
      "C:\\Users\\Daniyar Syrlybayev\\Downloads\\Week_3\n",
      "['images']\n",
      "['Planar_data_classification_with_one_hidden_layer.ipynb', 'planar_utils.py', 'public_tests.py', 'testCases_v2.py', 'test_utils.py']\n",
      "\n",
      "C:\\Users\\Daniyar Syrlybayev\\Downloads\\Week_3\\images\n",
      "[]\n",
      "['classification_kiank.png', 'grad_summary.png', 'sgd.gif', 'sgd_bad.gif']\n",
      "\n"
     ]
    }
   ],
   "source": [
    "#go though a complete tree\n",
    "#returns tuple with (currnet directiry, directories, files)\n",
    "\n",
    "for (path, folders, files) in os.walk(os.getcwd()):\n",
    "    print(path)\n",
    "    print(folders)\n",
    "    print(files)\n",
    "    print()\n"
   ]
  },
  {
   "cell_type": "code",
   "execution_count": 30,
   "id": "320e491f",
   "metadata": {},
   "outputs": [
    {
     "ename": "AttributeError",
     "evalue": "'_Environ' object has no attribute 'hom'",
     "output_type": "error",
     "traceback": [
      "\u001b[1;31m---------------------------------------------------------------------------\u001b[0m",
      "\u001b[1;31mAttributeError\u001b[0m                            Traceback (most recent call last)",
      "\u001b[1;32mC:\\Users\\DANIYA~1\\AppData\\Local\\Temp/ipykernel_22860/1609914918.py\u001b[0m in \u001b[0;36m<module>\u001b[1;34m\u001b[0m\n\u001b[1;32m----> 1\u001b[1;33m \u001b[0mos\u001b[0m\u001b[1;33m.\u001b[0m\u001b[0menviron\u001b[0m\u001b[1;33m.\u001b[0m\u001b[0mhom\u001b[0m\u001b[1;33m(\u001b[0m\u001b[1;34m\"HOME\"\u001b[0m\u001b[1;33m)\u001b[0m\u001b[1;33m\u001b[0m\u001b[1;33m\u001b[0m\u001b[0m\n\u001b[0m",
      "\u001b[1;31mAttributeError\u001b[0m: '_Environ' object has no attribute 'hom'"
     ]
    }
   ],
   "source": [
    "#joints two pathes toghether\n",
    "os.path.join()"
   ]
  },
  {
   "cell_type": "code",
   "execution_count": null,
   "id": "55d54b88",
   "metadata": {},
   "outputs": [],
   "source": []
  }
 ],
 "metadata": {
  "kernelspec": {
   "display_name": "Python 3 (ipykernel)",
   "language": "python",
   "name": "python3"
  },
  "language_info": {
   "codemirror_mode": {
    "name": "ipython",
    "version": 3
   },
   "file_extension": ".py",
   "mimetype": "text/x-python",
   "name": "python",
   "nbconvert_exporter": "python",
   "pygments_lexer": "ipython3",
   "version": "3.9.7"
  }
 },
 "nbformat": 4,
 "nbformat_minor": 5
}
