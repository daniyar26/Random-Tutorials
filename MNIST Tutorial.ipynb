{
 "cells": [
  {
   "cell_type": "markdown",
   "id": "a963143a",
   "metadata": {},
   "source": [
    "In this example the neural network that recognizes hand-written digit (provided by MNIST) is built and used to predict the results on the test set. ADAM optimizer and minibatch gradient descent was used to train model with 10000 images. Test set with 1000 images was tested and accuracy is 87.5%. Model takes 28x28 pixel image and outputs digit (0 - 9) shown on it"
   ]
  },
  {
   "cell_type": "code",
   "execution_count": 1,
   "id": "058fb9cc",
   "metadata": {},
   "outputs": [],
   "source": [
    "import numpy as np\n",
    "import tensorflow as tf\n",
    "from matplotlib import pyplot as plt\n",
    "DATA_URL = 'https://storage.googleapis.com/tensorflow/tf-keras-datasets/mnist.npz'\n",
    "\n",
    "path = tf.keras.utils.get_file('mnist.npz', DATA_URL)\n",
    "with np.load(path) as data:\n",
    "  train_examples = data['x_train']\n",
    "  train_labels = data['y_train']\n",
    "  test_examples = data['x_test']\n",
    "  test_labels = data['y_test']"
   ]
  },
  {
   "cell_type": "code",
   "execution_count": 2,
   "id": "f52d76b4",
   "metadata": {},
   "outputs": [
    {
     "data": {
      "text/plain": [
       "<matplotlib.image.AxesImage at 0x167f1887640>"
      ]
     },
     "execution_count": 2,
     "metadata": {},
     "output_type": "execute_result"
    },
    {
     "data": {
      "image/png": "[encoded data removed]",
      "text/plain": [
       "<Figure size 432x288 with 1 Axes>"
      ]
     },
     "metadata": {
      "needs_background": "light"
     },
     "output_type": "display_data"
    }
   ],
   "source": [
    "plt.gray()\n",
    "\n",
    "X = train_examples[16]\n",
    "plt.imshow(X)"
   ]
  },
  {
   "cell_type": "code",
   "execution_count": 3,
   "id": "3f53c3ba",
   "metadata": {},
   "outputs": [
    {
     "data": {
      "text/plain": [
       "60000"
      ]
     },
     "execution_count": 3,
     "metadata": {},
     "output_type": "execute_result"
    }
   ],
   "source": [
    "m = len(train_examples)\n",
    "m"
   ]
  },
  {
   "cell_type": "code",
   "execution_count": 4,
   "id": "3907a7c8",
   "metadata": {},
   "outputs": [
    {
     "data": {
      "text/plain": [
       "10000"
      ]
     },
     "execution_count": 4,
     "metadata": {},
     "output_type": "execute_result"
    }
   ],
   "source": [
    "len(test_examples)"
   ]
  },
  {
   "cell_type": "code",
   "execution_count": 5,
   "id": "5a9bdd46",
   "metadata": {},
   "outputs": [],
   "source": [
    "train_set = train_examples[0: 10000]\n",
    "train_set_labels = train_labels[0: 10000]\n",
    "test_set = test_examples[0: 1000]\n",
    "test_set_labels = test_labels[0 : 1000]"
   ]
  },
  {
   "cell_type": "code",
   "execution_count": 6,
   "id": "5d8574fb",
   "metadata": {},
   "outputs": [
    {
     "name": "stdout",
     "output_type": "stream",
     "text": [
      "1\n"
     ]
    },
    {
     "data": {
      "image/png": "[encoded data removed]",
      "text/plain": [
       "<Figure size 432x288 with 1 Axes>"
      ]
     },
     "metadata": {
      "needs_background": "light"
     },
     "output_type": "display_data"
    }
   ],
   "source": [
    "plt.gray()\n",
    "\n",
    "X = train_set[533]\n",
    "plt.imshow(X)\n",
    "print(train_set_labels[533])"
   ]
  },
  {
   "cell_type": "code",
   "execution_count": 7,
   "id": "fe90cf91",
   "metadata": {},
   "outputs": [
    {
     "name": "stdout",
     "output_type": "stream",
     "text": [
      "10000 10000\n",
      "1000 1000\n",
      "(10000, 28, 28) (10000,)\n"
     ]
    }
   ],
   "source": [
    "print(len(train_set), len(train_set_labels))\n",
    "print(len(test_set), len(test_set_labels))\n",
    "print(train_set.shape, train_set_labels.shape)"
   ]
  },
  {
   "cell_type": "code",
   "execution_count": 8,
   "id": "645ce8a2",
   "metadata": {},
   "outputs": [
    {
     "data": {
      "text/plain": [
       "array([  0,   0,   0,   0,   0,   0,   0,   0,   0,   0,   0,   0,   0,\n",
       "         0,   0,   0,   0,   0,   0,   0,   0,   0,   0,   0,   0,   0,\n",
       "         0,   0,   0,   0,   0,   0,   0,   0,   0,   0,   0,   0,   0,\n",
       "         0,   0,   0,   0,   0,   0,   0,   0,   0,   0,   0,   0,   0,\n",
       "         0,   0,   0,   0,   0,   0,   0,   0,   0,   0,   0,   0,   0,\n",
       "         0,   0,   0,   0,   0,   0,   0,   0,   0,   0,   0,   0,   0,\n",
       "         0,   0,   0,   0,   0,   0,   0,   0,   0,   0,   0,   0,   0,\n",
       "         0,   0,   0,   0,   0,   0,   0,   0,   0,   0,   0,   0,   0,\n",
       "         0,   0,   0,   0,   0,   0,   0,   0,   0,   0,   0,   0,   0,\n",
       "         0,   0,   0,   0,   0,   0,   0,   0,   0,   0,   0,   0,   0,\n",
       "         0,   0,   0,   0,   0,   0,   0,   0,   0,   0,   0,   0,   0,\n",
       "         0,   0,   0,   0,   0,   0,   0,   0,   0,   0,   0,   0,   0,\n",
       "         0,   0,   0,   0,   0,  33, 193, 254,  42,   0,   0,   0,   0,\n",
       "         0,   0,   0,   0,   0,   0,   0,   0,   0,   0,   0,   0,   0,\n",
       "         0,   0,   0,   0,   0,   0,  15, 212, 253, 232,  28,   0,   0,\n",
       "         0,   0,   0,   0,   0,   0,   0,   0,   0,   0,   0,   0,   0,\n",
       "         0,   0,   0,   0,   0,   0,   0,  18, 193, 253, 243, 129,   0,\n",
       "         0,   0,   0,   0,   0,   0,   0,   0,   0,   0,   0,   0,   0,\n",
       "         0,   0,   0,   0,   0,   0,   0,   0,  70, 240, 254, 253, 100,\n",
       "         0,   0,   0,   0,   0,   0,   0,   0,   0,   0,   0,   0,   0,\n",
       "         0,   0,   0,   0,   0,   0,   0,   0,   0,  54, 205, 253, 254,\n",
       "        94,   4,   0,   0,   0,   0,   0,   0,   0,   0,   0,   0,   0,\n",
       "         0,   0,   0,   0,   0,   0,   0,   0,   0,   0, 113, 246, 254,\n",
       "       254, 133,   0,   0,   0,   0,   0,   0,   0,   0,   0,   0,   0,\n",
       "         0,   0,   0,   0,   0,   0,   0,   0,   0,   0,   0,  68, 238,\n",
       "       253, 253, 138,   0,   0,   0,   0,   0,   0,   0,   0,   0,   0,\n",
       "         0,   0,   0,   0,   0,   0,   0,   0,   0,   0,   0,   0,  18,\n",
       "       246, 253, 253, 141,   4,   0,   0,   0,   0,   0,   0,   0,   0,\n",
       "         0,   0,   0,   0,   0,   0,   0,   0,   0,   0,   0,   0,   0,\n",
       "        70, 240, 255, 253, 168,  28,   0,   0,   0,   0,   0,   0,   0,\n",
       "         0,   0,   0,   0,   0,   0,   0,   0,   0,   0,   0,   0,   0,\n",
       "         0, 107, 240, 253, 254, 138,  21,   0,   0,   0,   0,   0,   0,\n",
       "         0,   0,   0,   0,   0,   0,   0,   0,   0,   0,   0,   0,   0,\n",
       "         0,   0,  68, 246, 254, 254, 133,   0,   0,   0,   0,   0,   0,\n",
       "         0,   0,   0,   0,   0,   0,   0,   0,   0,   0,   0,   0,   0,\n",
       "         0,   0,   0,  68, 238, 253, 232, 125,   0,   0,   0,   0,   0,\n",
       "         0,   0,   0,   0,   0,   0,   0,   0,   0,   0,   0,   0,   0,\n",
       "         0,   0,   0,   0,  54, 246, 253, 243, 129,   0,   0,   0,   0,\n",
       "         0,   0,   0,   0,   0,   0,   0,   0,   0,   0,   0,   0,   0,\n",
       "         0,   0,   0,   0,   0,  17, 187, 254, 253, 100,   0,   0,   0,\n",
       "         0,   0,   0,   0,   0,   0,   0,   0,   0,   0,   0,   0,   0,\n",
       "         0,   0,   0,   0,   0,   0,   0, 152, 253, 254, 138,   4,   0,\n",
       "         0,   0,   0,   0,   0,   0,   0,   0,   0,   0,   0,   0,   0,\n",
       "         0,   0,   0,   0,   0,   0,   0,   0,  84, 254, 254, 133,   0,\n",
       "         0,   0,   0,   0,   0,   0,   0,   0,   0,   0,   0,   0,   0,\n",
       "         0,   0,   0,   0,   0,   0,   0,   0,   0,  65, 222, 253, 173,\n",
       "         0,   0,   0,   0,   0,   0,   0,   0,   0,   0,   0,   0,   0,\n",
       "         0,   0,   0,   0,   0,   0,   0,   0,   0,   0,   4, 188, 253,\n",
       "       186,  12,   0,   0,   0,   0,   0,   0,   0,   0,   0,   0,   0,\n",
       "         0,   0,   0,   0,   0,   0,   0,   0,   0,   0,   0,   0,  43,\n",
       "       253, 213,  28,   0,   0,   0,   0,   0,   0,   0,   0,   0,   0,\n",
       "         0,   0,   0,   0,   0,   0,   0,   0,   0,   0,   0,   0,   0,\n",
       "         0,  43, 253,  82,   0,   0,   0,   0,   0,   0,   0,   0,   0,\n",
       "         0,   0,   0,   0,   0,   0,   0,   0,   0,   0,   0,   0,   0,\n",
       "         0,   0,   0,   0,   0,   0,   0,   0,   0,   0,   0,   0,   0,\n",
       "         0,   0,   0,   0,   0,   0,   0,   0,   0,   0,   0,   0,   0,\n",
       "         0,   0,   0,   0,   0,   0,   0,   0,   0,   0,   0,   0,   0,\n",
       "         0,   0,   0,   0,   0,   0,   0,   0,   0,   0,   0,   0,   0,\n",
       "         0,   0,   0,   0,   0,   0,   0,   0,   0,   0,   0,   0,   0,\n",
       "         0,   0,   0,   0,   0,   0,   0,   0,   0,   0,   0,   0,   0,\n",
       "         0,   0,   0,   0], dtype=uint8)"
      ]
     },
     "execution_count": 8,
     "metadata": {},
     "output_type": "execute_result"
    }
   ],
   "source": [
    "train_set[533].reshape(28*28, )"
   ]
  },
  {
   "cell_type": "code",
   "execution_count": 9,
   "id": "c7362fad",
   "metadata": {},
   "outputs": [],
   "source": [
    "Y_train = np.reshape(train_set_labels, (1, 10000))\n",
    "Y_test = np.reshape(test_set_labels, (1, 1000))\n",
    "X_train = np.zeros((28*28, 10000))\n",
    "X_test = np.zeros((28*28, 1000))\n",
    "for i in range(len(train_set)):\n",
    "    X_train[:, i] = np.reshape(train_set[i], (28 * 28))\n",
    "\n",
    "for i in range(len(test_set)):\n",
    "    X_test[:, i] = np.reshape(test_set[i], (28 * 28))\n",
    "    \n",
    "assert(X_train.shape == (28*28, 10000))\n",
    "assert(X_test.shape == (28 * 28, 1000))\n",
    "assert(Y_train.shape == (1, 10000))\n",
    "assert(Y_test.shape == (1, 1000))"
   ]
  },
  {
   "cell_type": "code",
   "execution_count": 10,
   "id": "61bbbabe",
   "metadata": {},
   "outputs": [
    {
     "name": "stdout",
     "output_type": "stream",
     "text": [
      "1\n"
     ]
    },
    {
     "data": {
      "image/png": "[encoded data removed]",
      "text/plain": [
       "<Figure size 432x288 with 1 Axes>"
      ]
     },
     "metadata": {
      "needs_background": "light"
     },
     "output_type": "display_data"
    }
   ],
   "source": [
    "X = np.reshape(X_train[:, 533], (28, 28))\n",
    "plt.gray()\n",
    "\n",
    "plt.imshow(X)\n",
    "print(Y_train[0, 533])"
   ]
  },
  {
   "cell_type": "code",
   "execution_count": 11,
   "id": "81a62695",
   "metadata": {},
   "outputs": [
    {
     "name": "stdout",
     "output_type": "stream",
     "text": [
      "(1, 10000)\n"
     ]
    }
   ],
   "source": [
    "print(Y_train.shape)"
   ]
  },
  {
   "cell_type": "code",
   "execution_count": 12,
   "id": "c628a38c",
   "metadata": {},
   "outputs": [
    {
     "name": "stdout",
     "output_type": "stream",
     "text": [
      "(784, 10000)\n"
     ]
    }
   ],
   "source": [
    "print(X_train.shape)"
   ]
  },
  {
   "cell_type": "code",
   "execution_count": 13,
   "id": "3de8dcfa",
   "metadata": {},
   "outputs": [
    {
     "data": {
      "text/plain": [
       "(1, 1000)"
      ]
     },
     "execution_count": 13,
     "metadata": {},
     "output_type": "execute_result"
    }
   ],
   "source": [
    "Y_test.shape"
   ]
  },
  {
   "cell_type": "code",
   "execution_count": 14,
   "id": "bd1a10c3",
   "metadata": {},
   "outputs": [],
   "source": [
    "train_Y = np.zeros((10, 10000))\n",
    "for i in range(10000):\n",
    "    j = int(Y_train[:, i])\n",
    "    train_Y[j, i] = 1\n",
    "\n",
    "    \n",
    "test_Y = np.zeros((10, 1000))\n",
    "for i in range(1000):\n",
    "    j = int(Y_test[:, i]) \n",
    "    test_Y[j, i] = 1"
   ]
  },
  {
   "cell_type": "code",
   "execution_count": 15,
   "id": "cf7d1534",
   "metadata": {},
   "outputs": [],
   "source": [
    "Y_train = train_Y\n",
    "Y_test = test_Y"
   ]
  },
  {
   "cell_type": "code",
   "execution_count": 16,
   "id": "7e969f2b",
   "metadata": {},
   "outputs": [
    {
     "name": "stdout",
     "output_type": "stream",
     "text": [
      "[0. 1. 0. 0. 0. 0. 0. 0. 0. 0.]\n"
     ]
    },
    {
     "data": {
      "image/png": "[encoded data removed]",
      "text/plain": [
       "<Figure size 432x288 with 1 Axes>"
      ]
     },
     "metadata": {
      "needs_background": "light"
     },
     "output_type": "display_data"
    }
   ],
   "source": [
    "X = np.reshape(X_train[:, 533], (28, 28))\n",
    "plt.gray()\n",
    "\n",
    "plt.imshow(X)\n",
    "print(Y_train[:, 533])"
   ]
  },
  {
   "cell_type": "code",
   "execution_count": 17,
   "id": "7c56622f",
   "metadata": {},
   "outputs": [
    {
     "name": "stdout",
     "output_type": "stream",
     "text": [
      "(10, 10000)\n"
     ]
    }
   ],
   "source": [
    "print(Y_train.shape)"
   ]
  },
  {
   "cell_type": "markdown",
   "id": "417778d3",
   "metadata": {},
   "source": [
    "# Shuffling Data to minibatches"
   ]
  },
  {
   "cell_type": "code",
   "execution_count": 18,
   "id": "09aea60e",
   "metadata": {},
   "outputs": [],
   "source": [
    "def random_minibatches(X, Y, minibatch_size = 64, seed = 0):\n",
    "    np.random.seed(seed)\n",
    "    m = X.shape[0]\n",
    "    permutations = list(np.random.permutation(m))\n",
    "    shuffled_X = X[:, permutations]\n",
    "    shuffled_Y = Y[:, permutations]\n",
    "    num_complete_minibatches = m // minibatch_size\n",
    "    last_minibatch_size = m - num_complete_minibatches * minibatch_size\n",
    "    \n",
    "    minibatches = []\n",
    "    for i in range(num_complete_minibatches):\n",
    "        minibatches_X = shuffled_X[:, i * minibatch_size: (i + 1) * minibatch_size]\n",
    "        minibatches_Y = shuffled_Y[:, i * minibatch_size: (i + 1) * minibatch_size]\n",
    "        minibatch = (minibatches_X, minibatches_Y)\n",
    "        minibatches.append(minibatch)\n",
    "    \n",
    "    last_minibatch_X = shuffled_X[:, num_complete_minibatches * minibatch_size: m]\n",
    "    last_minibatch_Y = shuffled_Y[:, num_complete_minibatches * minibatch_size: m]\n",
    "    last_minibatch = (last_minibatch_X, last_minibatch_Y)\n",
    "    minibatches.append(last_minibatch)\n",
    "    return minibatches"
   ]
  },
  {
   "cell_type": "markdown",
   "id": "af21bc15",
   "metadata": {},
   "source": [
    "# Generating Forward Prop"
   ]
  },
  {
   "cell_type": "code",
   "execution_count": 19,
   "id": "375c6daf",
   "metadata": {},
   "outputs": [],
   "source": [
    "def relu(z):\n",
    "    return np.maximum(0, z)"
   ]
  },
  {
   "cell_type": "code",
   "execution_count": 20,
   "id": "aa2965eb",
   "metadata": {},
   "outputs": [],
   "source": [
    "def relu_backward(z):\n",
    "    return 1 * (z > 0)"
   ]
  },
  {
   "cell_type": "code",
   "execution_count": 21,
   "id": "508901ae",
   "metadata": {},
   "outputs": [],
   "source": [
    "def sigmoid(z):\n",
    "    t = np.exp(z)\n",
    "    result = t/np.sum(t, axis = 0, keepdims = True)\n",
    "    return result"
   ]
  },
  {
   "cell_type": "code",
   "execution_count": 22,
   "id": "435068ff",
   "metadata": {},
   "outputs": [],
   "source": [
    "def sigmoid_backward(a):\n",
    "    return a*(1 - a)"
   ]
  },
  {
   "cell_type": "code",
   "execution_count": 23,
   "id": "68bb2c8e",
   "metadata": {},
   "outputs": [],
   "source": [
    "def initialize_parameters(layer_dims):\n",
    "    np.random.seed(3)\n",
    "    L = len(layer_dims)\n",
    "    parameters = {}\n",
    "    for i in range(1, L):\n",
    "        parameters[\"W\" + str(i)] = np.random.randn(layer_dims[i], layer_dims[i - 1]) * 0.01\n",
    "        parameters[\"b\" + str(i)] = np.zeros((layer_dims[i], 1))\n",
    "    return parameters"
   ]
  },
  {
   "cell_type": "code",
   "execution_count": 24,
   "id": "81d72c83",
   "metadata": {},
   "outputs": [],
   "source": [
    "def forward_prop(parameters, X):\n",
    "    L = len(layer_dims)\n",
    "    cache = {}\n",
    "    cache[\"A0\"] = X\n",
    "    for i in range(1, L - 1):\n",
    "        cache[\"Z\" + str(i)] = np.dot(parameters[\"W\" + str(i)], cache[\"A\" + str(i - 1)]) + parameters[\"b\" + str(i)]\n",
    "        cache[\"A\" + str(i)] = relu(cache[\"Z\" + str(i)])\n",
    "    \n",
    "    cache[\"Z\" + str(L - 1)] = np.dot(parameters[\"W\" + str(L - 1)], cache[\"A\" + str(L - 2)]) + parameters[\"b\" + str(L - 1)]\n",
    "    cache[\"A\" + str(L - 1)] = sigmoid(cache[\"Z\" + str(L - 1)])\n",
    "    \n",
    "    return cache"
   ]
  },
  {
   "cell_type": "markdown",
   "id": "6476d901",
   "metadata": {},
   "source": [
    "## Check       "
   ]
  },
  {
   "cell_type": "code",
   "execution_count": 25,
   "id": "4dd53c41",
   "metadata": {},
   "outputs": [],
   "source": [
    "layer_dims = [784, 3136, 448, 64, 10]\n",
    "params = initialize_parameters(layer_dims)\n",
    "Cache = forward_prop(params, X_train)"
   ]
  },
  {
   "cell_type": "code",
   "execution_count": 26,
   "id": "2e6ae7fa",
   "metadata": {},
   "outputs": [
    {
     "data": {
      "text/plain": [
       "(448, 1)"
      ]
     },
     "execution_count": 26,
     "metadata": {},
     "output_type": "execute_result"
    }
   ],
   "source": [
    "params[\"b2\"].shape"
   ]
  },
  {
   "cell_type": "code",
   "execution_count": 27,
   "id": "1815bed1",
   "metadata": {},
   "outputs": [
    {
     "data": {
      "text/plain": [
       "(3136, 10000)"
      ]
     },
     "execution_count": 27,
     "metadata": {},
     "output_type": "execute_result"
    }
   ],
   "source": [
    "Cache[\"A1\"].shape"
   ]
  },
  {
   "cell_type": "code",
   "execution_count": 28,
   "id": "531a729f",
   "metadata": {},
   "outputs": [
    {
     "data": {
      "text/plain": [
       "(10, 10000)"
      ]
     },
     "execution_count": 28,
     "metadata": {},
     "output_type": "execute_result"
    }
   ],
   "source": [
    "Y_train.shape"
   ]
  },
  {
   "cell_type": "code",
   "execution_count": 29,
   "id": "c733b924",
   "metadata": {},
   "outputs": [
    {
     "data": {
      "text/plain": [
       "array([0.09720779, 0.10021043, 0.09742983, 0.10962139, 0.10863931,\n",
       "       0.09643287, 0.10356552, 0.09104502, 0.09763357, 0.09821426])"
      ]
     },
     "execution_count": 29,
     "metadata": {},
     "output_type": "execute_result"
    }
   ],
   "source": [
    "Cache[\"A4\"][:, 27]"
   ]
  },
  {
   "cell_type": "code",
   "execution_count": 30,
   "id": "4aa8911b",
   "metadata": {},
   "outputs": [
    {
     "name": "stdout",
     "output_type": "stream",
     "text": [
      "(3136,)\n"
     ]
    }
   ],
   "source": [
    "print(Cache[\"A1\"][:, 27].shape)"
   ]
  },
  {
   "cell_type": "code",
   "execution_count": 31,
   "id": "bd38afff",
   "metadata": {},
   "outputs": [
    {
     "name": "stdout",
     "output_type": "stream",
     "text": [
      "(10,)\n"
     ]
    }
   ],
   "source": [
    "print(Y_train[:, 27].shape)"
   ]
  },
  {
   "cell_type": "code",
   "execution_count": 32,
   "id": "392ec766",
   "metadata": {},
   "outputs": [],
   "source": [
    "mini = random_minibatches(X_train, Y_train)"
   ]
  },
  {
   "cell_type": "code",
   "execution_count": 33,
   "id": "4b015acd",
   "metadata": {},
   "outputs": [],
   "source": [
    "A = mini[3][0][:][:, 27].reshape(28, 28)"
   ]
  },
  {
   "cell_type": "code",
   "execution_count": 34,
   "id": "9df0086b",
   "metadata": {},
   "outputs": [
    {
     "name": "stdout",
     "output_type": "stream",
     "text": [
      "(10, 64)\n"
     ]
    }
   ],
   "source": [
    "print(mini[3][1].shape)"
   ]
  },
  {
   "cell_type": "code",
   "execution_count": 35,
   "id": "ad765592",
   "metadata": {},
   "outputs": [
    {
     "name": "stdout",
     "output_type": "stream",
     "text": [
      "[0. 0. 0. 0. 0. 0. 0. 0. 0. 1.]\n"
     ]
    },
    {
     "data": {
      "image/png": "[encoded data removed]",
      "text/plain": [
       "<Figure size 432x288 with 1 Axes>"
      ]
     },
     "metadata": {
      "needs_background": "light"
     },
     "output_type": "display_data"
    }
   ],
   "source": [
    "\n",
    "plt.gray()\n",
    "\n",
    "plt.imshow(A)\n",
    "print(mini[3][1][:, 27])"
   ]
  },
  {
   "cell_type": "markdown",
   "id": "821ceb93",
   "metadata": {},
   "source": [
    "# Compute Cost"
   ]
  },
  {
   "cell_type": "code",
   "execution_count": 67,
   "id": "04db7082",
   "metadata": {},
   "outputs": [],
   "source": [
    "def compute_cost(cache, Y):\n",
    "    L = len(cache) // 2\n",
    "    AL = cache[\"A\" + str(L)]\n",
    "    m = Y.shape[0]\n",
    "    assert(AL.shape == Y.shape)\n",
    "    cost = -np.sum(Y * np.log(AL), axis = 0, keepdims = True)\n",
    "    costs = 1/m * np.sum(cost, axis = 1, keepdims = True)\n",
    "    return costs"
   ]
  },
  {
   "cell_type": "code",
   "execution_count": 37,
   "id": "41ef32be",
   "metadata": {},
   "outputs": [
    {
     "data": {
      "text/plain": [
       "array([[2305.7647195]])"
      ]
     },
     "execution_count": 37,
     "metadata": {},
     "output_type": "execute_result"
    }
   ],
   "source": [
    "compute_cost(Cache, Y_train)"
   ]
  },
  {
   "cell_type": "code",
   "execution_count": 38,
   "id": "b98d17aa",
   "metadata": {},
   "outputs": [
    {
     "data": {
      "text/plain": [
       "(10, 10000)"
      ]
     },
     "execution_count": 38,
     "metadata": {},
     "output_type": "execute_result"
    }
   ],
   "source": [
    "Y_train.shape"
   ]
  },
  {
   "cell_type": "code",
   "execution_count": 39,
   "id": "f27eface",
   "metadata": {},
   "outputs": [
    {
     "data": {
      "text/plain": [
       "(10, 10000)"
      ]
     },
     "execution_count": 39,
     "metadata": {},
     "output_type": "execute_result"
    }
   ],
   "source": [
    "Cache[\"A4\"].shape"
   ]
  },
  {
   "cell_type": "code",
   "execution_count": 40,
   "id": "a290682c",
   "metadata": {},
   "outputs": [],
   "source": [
    "def backward_prop(parameters, cache, Y):\n",
    "    m = Y.shape[1]\n",
    "    grads = {}\n",
    "    L = len(cache) // 2\n",
    "    AL = cache[\"A\" + str(L)]\n",
    "    for i in range(L, 0, -1):\n",
    "        if i == L:\n",
    "            grads[\"dZ\" + str(L)] = AL - Y\n",
    "        else:\n",
    "            grads[\"dZ\" + str(i)] = grads[\"dA\" + str(i)] * relu_backward(cache[\"Z\" + str(i)])\n",
    "        \n",
    "        grads[\"dW\" + str(i)] = 1/m  * np.dot(grads[\"dZ\" + str(i)], cache[\"A\" + str(i - 1)].T)\n",
    "        grads[\"db\" + str(i)] = 1/m * np.sum(grads[\"dZ\" + str(i)], axis = 1, keepdims = True)\n",
    "        grads[\"dA\" + str(i - 1)] = np.dot(parameters[\"W\" + str(i)].T, grads[\"dZ\" + str(i)])\n",
    "        \n",
    "        \n",
    "    return grads"
   ]
  },
  {
   "cell_type": "code",
   "execution_count": 41,
   "id": "b46f567c",
   "metadata": {},
   "outputs": [],
   "source": [
    "grd = backward_prop(params, Cache, Y_train)"
   ]
  },
  {
   "cell_type": "code",
   "execution_count": 42,
   "id": "9b330da0",
   "metadata": {},
   "outputs": [
    {
     "data": {
      "text/plain": [
       "{'dZ4': array([[ 0.09830272, -0.90756727,  0.10568418, ...,  0.09961376,\n",
       "          0.10365534,  0.0974518 ],\n",
       "        [ 0.09990186,  0.09358919,  0.10236225, ...,  0.10153604,\n",
       "          0.09533263,  0.10022751],\n",
       "        [ 0.09614888,  0.10422332,  0.09212616, ...,  0.10436322,\n",
       "          0.09427341,  0.09656147],\n",
       "        ...,\n",
       "        [ 0.09358885,  0.09297443,  0.09427171, ...,  0.09510933,\n",
       "          0.0930325 , -0.90944041],\n",
       "        [ 0.10356242,  0.09649728,  0.10211784, ...,  0.09621549,\n",
       "          0.10646996,  0.10442614],\n",
       "        [ 0.09427108,  0.09517648,  0.09679478, ...,  0.09257397,\n",
       "         -0.89876572,  0.09633245]]),\n",
       " 'dW4': array([[-9.92637424e-03,  6.51629556e-03,  7.74197951e-03,\n",
       "         -1.87252091e-02, -7.52201943e-02,  1.21276136e-03,\n",
       "         -5.43085784e-03, -2.62375170e-02, -3.09461545e-03,\n",
       "          4.07775135e-02,  1.41778400e-02, -2.30240041e-02,\n",
       "          1.12121543e-02, -4.79299712e-02,  1.84744655e-02,\n",
       "         -2.44754897e-02, -5.72507246e-02,  6.98367860e-03,\n",
       "          3.95353287e-03, -1.88074804e-02, -5.71844981e-03,\n",
       "         -2.90754031e-02,  4.85061523e-03, -2.36083251e-02,\n",
       "          4.09574137e-02, -8.12543275e-02,  2.08047397e-03,\n",
       "          2.11558810e-03,  1.03869944e-03, -3.10444085e-03,\n",
       "          3.45550510e-03, -1.01303555e-02,  1.63113127e-03,\n",
       "          2.37811796e-02,  6.87228658e-02,  4.95725255e-03,\n",
       "         -3.08687330e-04, -2.62593425e-05,  2.30249196e-02,\n",
       "         -1.29337046e-02, -4.36626241e-02,  1.55289674e-04,\n",
       "         -1.93364595e-02,  2.21685663e-02, -1.04586360e-01,\n",
       "          7.87341958e-05,  1.58235305e-03,  1.65602072e-04,\n",
       "         -1.03268298e-03, -7.68360591e-03,  2.52384552e-02,\n",
       "          1.31335888e-03,  7.64259465e-03, -1.35318044e-02,\n",
       "          2.64253033e-02,  5.35124366e-04, -7.72004737e-02,\n",
       "         -2.39083775e-02, -9.30377009e-03, -3.09622311e-02,\n",
       "         -1.95731380e-02, -2.75275468e-02,  4.28849060e-02,\n",
       "          5.27914919e-03],\n",
       "        [ 9.41381205e-02,  3.23147434e-02,  3.57231640e-03,\n",
       "          6.35515957e-03,  7.32588373e-03, -9.44763250e-03,\n",
       "          7.09675537e-03, -8.00089275e-03, -9.66208963e-04,\n",
       "         -1.90795064e-02, -1.78490335e-02,  2.08772772e-02,\n",
       "          1.95298421e-02,  3.41292972e-02, -3.76394363e-02,\n",
       "         -9.59638046e-03,  2.65844272e-02,  7.27853462e-03,\n",
       "          9.82382610e-03, -8.19345943e-03,  6.64821673e-03,\n",
       "          2.37919756e-02,  1.19480712e-02,  7.11481497e-03,\n",
       "         -5.69494446e-02,  2.93340681e-02, -3.11648244e-03,\n",
       "          6.33076990e-03, -2.76503302e-03, -1.01276038e-02,\n",
       "         -1.43057158e-02,  2.92792896e-02, -1.00803540e-02,\n",
       "          2.31409168e-02,  2.32195823e-02, -4.49176429e-03,\n",
       "          4.84397633e-05, -4.51707854e-03, -2.56166222e-03,\n",
       "          2.05467106e-02,  6.04409347e-02,  3.09445748e-04,\n",
       "          7.12930946e-04, -3.84093008e-02,  7.77824110e-02,\n",
       "         -3.49083384e-04,  4.85021468e-03, -1.13663424e-03,\n",
       "         -6.72670323e-03,  1.80871145e-02, -1.74932639e-02,\n",
       "         -3.95539103e-03,  9.27639915e-03, -2.87010260e-02,\n",
       "         -4.35131091e-02,  2.60401948e-03,  5.23854831e-02,\n",
       "         -1.94975701e-03, -3.57201625e-02,  1.80034983e-02,\n",
       "         -2.29012300e-02,  3.74285132e-02,  2.52474270e-03,\n",
       "          1.93542919e-02],\n",
       "        [ 2.74436840e-02,  5.52968895e-03,  2.83498379e-03,\n",
       "          4.20437466e-03,  2.12991832e-03,  6.81517946e-03,\n",
       "         -4.01958169e-03, -3.09641716e-02,  1.18965927e-03,\n",
       "         -4.17306611e-02,  2.62382621e-03, -1.45846666e-02,\n",
       "         -6.69864865e-02,  2.94490805e-02, -1.43168375e-03,\n",
       "         -7.81019093e-04, -6.56026977e-03,  9.73097170e-03,\n",
       "         -6.45681861e-03, -1.09357083e-02,  1.37390259e-03,\n",
       "          1.92643322e-02,  1.26924218e-03,  1.04024689e-03,\n",
       "         -2.99500911e-02,  1.22878853e-02,  3.63662494e-04,\n",
       "          1.57020795e-03,  8.49889922e-04,  2.22066346e-02,\n",
       "          9.76315876e-05, -2.59226649e-02,  2.17497919e-03,\n",
       "         -2.95088676e-02, -2.87738703e-02, -8.37180531e-04,\n",
       "          5.02180007e-05, -3.75937898e-03, -9.86249714e-03,\n",
       "         -2.28357180e-02, -1.72839267e-02,  1.96214406e-04,\n",
       "          2.04954391e-03, -9.67929824e-03, -2.82754426e-03,\n",
       "         -2.45771684e-05,  7.28265476e-03,  1.18889295e-04,\n",
       "         -8.24045374e-04,  6.65981752e-03, -4.60221989e-02,\n",
       "          1.05643594e-03, -7.02596217e-03,  2.14300817e-02,\n",
       "         -2.92024445e-02,  1.62249088e-04, -5.69735802e-02,\n",
       "          1.23004702e-02,  1.67066680e-02,  2.44793297e-03,\n",
       "          3.16483251e-03, -3.60580978e-02, -2.71322657e-02,\n",
       "         -3.88501470e-02],\n",
       "        [-3.78327950e-02, -2.93757331e-02, -7.19183327e-03,\n",
       "          1.78741982e-03,  2.73988226e-02, -1.40252695e-02,\n",
       "          8.20863265e-03, -1.67370108e-02, -2.15223025e-03,\n",
       "         -6.01158439e-02, -9.51907243e-03, -2.20696225e-02,\n",
       "          4.06127695e-03,  5.42261403e-03, -3.54981951e-02,\n",
       "          1.76653467e-02,  2.56114237e-02,  1.39168073e-02,\n",
       "          1.09022871e-02,  1.65328852e-03, -4.69436374e-03,\n",
       "         -1.29972933e-02, -1.23930059e-02,  4.85493637e-03,\n",
       "         -9.74286586e-03, -2.31589785e-02,  1.82767044e-03,\n",
       "          3.79730166e-03,  9.15816932e-04,  1.85132715e-02,\n",
       "          1.49891382e-03, -4.45009513e-02,  1.75080669e-02,\n",
       "         -4.27023017e-02, -2.19050963e-02,  3.74628644e-03,\n",
       "          4.05247202e-05,  2.30000810e-03, -9.75896253e-03,\n",
       "         -3.20758757e-02, -1.90420299e-02, -4.72552816e-04,\n",
       "          4.06824765e-03,  6.32182619e-03, -5.94430431e-04,\n",
       "          6.58690316e-05, -7.57160735e-04,  1.72609167e-04,\n",
       "         -1.02690022e-02,  7.04030167e-03,  1.35432486e-02,\n",
       "          9.57742303e-04,  8.36379372e-03, -1.05601865e-02,\n",
       "          1.75022614e-02,  1.44399425e-03,  2.67688830e-02,\n",
       "          5.77913058e-03, -1.08897085e-02,  6.75451966e-03,\n",
       "         -2.27051310e-02,  1.28596313e-02, -2.27978338e-02,\n",
       "          9.83467940e-03],\n",
       "        [-1.27478011e-02,  9.93570250e-03, -2.56186375e-03,\n",
       "          6.44118786e-03, -5.04093676e-03,  6.52905038e-03,\n",
       "         -6.03534069e-03,  4.72894149e-02,  1.43152687e-03,\n",
       "          2.26742798e-02, -1.61594675e-03,  2.90975058e-02,\n",
       "          1.79418213e-02,  2.51820633e-02,  7.98566495e-03,\n",
       "          4.86386326e-03, -1.56806857e-02, -4.78980891e-02,\n",
       "         -9.57214704e-03,  1.62754325e-02, -1.99234819e-03,\n",
       "         -4.58812403e-03,  2.07182067e-03,  5.25570579e-03,\n",
       "          3.60454405e-02, -2.21990645e-02, -4.27627834e-04,\n",
       "         -7.38823012e-03,  1.07676579e-03,  3.00916091e-02,\n",
       "          3.20285255e-03,  7.66673868e-03, -4.67716432e-03,\n",
       "          2.71154616e-02, -3.28158357e-02, -6.86161292e-04,\n",
       "          5.36613323e-05,  1.83722491e-03,  1.52762230e-02,\n",
       "         -1.68153909e-02,  1.67123247e-02, -1.34345327e-04,\n",
       "          1.39423627e-02,  2.22085463e-02,  3.79980351e-02,\n",
       "          5.02455695e-05, -2.41974033e-05,  1.74941946e-04,\n",
       "          1.60035183e-02, -6.93060064e-03,  2.27993997e-02,\n",
       "          9.01614149e-04, -1.44945384e-02,  3.26682396e-02,\n",
       "          2.91791076e-02,  9.34070627e-04,  2.33366089e-02,\n",
       "          2.85717381e-02,  2.46054544e-02,  2.18055713e-03,\n",
       "          2.25639495e-02,  1.36436673e-02,  2.14625170e-02,\n",
       "          3.30606964e-02],\n",
       "        [ 3.76667796e-02,  8.72584889e-02,  1.04911925e-02,\n",
       "          4.76815127e-03,  4.45316891e-02,  4.77649050e-04,\n",
       "          7.22372325e-03,  5.73614249e-02,  7.15379815e-04,\n",
       "          1.20249328e-02,  2.12741576e-03,  1.60465434e-03,\n",
       "          6.81730831e-02,  2.57209204e-02,  4.16821634e-04,\n",
       "          1.77972455e-02, -4.53957675e-03,  2.00779943e-02,\n",
       "          6.75709108e-03, -3.36424402e-03,  2.59535227e-03,\n",
       "         -1.21245715e-02,  4.61646251e-03,  5.28501380e-04,\n",
       "          2.68584617e-02,  7.15981810e-02,  8.02396058e-04,\n",
       "         -5.90260384e-03,  9.73998473e-04,  5.22584724e-03,\n",
       "          2.93386438e-03, -7.55385807e-03,  3.70120324e-02,\n",
       "         -1.17877781e-02,  4.75291302e-02,  3.89750189e-03,\n",
       "         -1.88148314e-06,  2.40787596e-03,  4.48782261e-03,\n",
       "          4.87001211e-02,  2.38804501e-02, -9.59695837e-05,\n",
       "          5.28518176e-03,  4.47406895e-02, -1.12605905e-03,\n",
       "         -2.58532270e-05, -7.55249546e-03,  1.71319340e-04,\n",
       "         -7.56965723e-03,  1.30974593e-02,  2.06113277e-02,\n",
       "         -1.10101065e-03,  1.00524713e-02, -2.75830003e-02,\n",
       "          2.98486020e-03, -4.33648931e-04,  1.15774339e-02,\n",
       "         -2.49800964e-02, -2.83785972e-04,  4.34042282e-03,\n",
       "         -1.10569663e-03,  4.03727503e-02,  5.73635330e-02,\n",
       "          2.58333533e-02],\n",
       "        [-1.61905931e-02, -3.30841811e-02,  9.26921799e-03,\n",
       "          2.91389471e-03, -5.97225020e-03,  2.01374754e-02,\n",
       "         -1.08678533e-02,  2.91147912e-02,  9.61651784e-04,\n",
       "          3.80905725e-02,  7.10762734e-03,  7.30139446e-03,\n",
       "         -4.78215281e-02,  7.64166645e-02,  3.12656979e-02,\n",
       "         -3.50144821e-02,  6.70877853e-03, -1.31719276e-02,\n",
       "         -8.19136700e-04,  4.17877910e-02, -4.54287043e-03,\n",
       "          1.34230348e-02, -2.15530603e-03, -8.86491640e-03,\n",
       "         -5.02199237e-02,  1.38126787e-02, -1.22578971e-03,\n",
       "          8.51856740e-04, -4.52330449e-03,  2.73872997e-03,\n",
       "         -4.22860147e-04,  2.08956354e-03,  4.25959448e-02,\n",
       "         -5.02585955e-02, -2.84701964e-02, -1.31156512e-02,\n",
       "          4.86677888e-05,  4.37764410e-03,  2.87470210e-02,\n",
       "          1.74795434e-03, -5.96782943e-02,  1.89647456e-04,\n",
       "          2.25061902e-02,  8.05231643e-03, -7.07318832e-02,\n",
       "          7.60686652e-05, -5.51541749e-03,  9.64353049e-05,\n",
       "         -1.51345643e-02, -2.62008731e-02,  7.58428844e-03,\n",
       "         -2.79679588e-03, -2.52085059e-02,  1.49017102e-02,\n",
       "         -3.39956238e-02, -5.11940394e-03, -3.41240366e-02,\n",
       "         -6.84409970e-03,  3.28803854e-03,  1.02960028e-02,\n",
       "          1.33919248e-02, -3.71999869e-02,  2.37238210e-02,\n",
       "          4.10847894e-02],\n",
       "        [-6.02718765e-02, -2.76799143e-02, -2.07745995e-02,\n",
       "         -1.51015441e-02, -1.09972259e-02, -1.16114212e-02,\n",
       "         -2.25984352e-03, -2.84405247e-02, -3.39696079e-04,\n",
       "          8.96854035e-05, -5.14087292e-03,  6.53554302e-03,\n",
       "         -2.73499776e-02, -5.82796941e-02,  6.33184434e-03,\n",
       "          1.93763278e-02,  2.17585062e-02, -8.33442293e-03,\n",
       "         -3.53806286e-03,  7.59410152e-03,  2.54450630e-03,\n",
       "         -5.38227905e-03, -2.81045477e-02,  5.47127224e-03,\n",
       "          4.19539372e-02, -2.68214479e-02, -3.09763675e-03,\n",
       "         -5.25582693e-03,  7.07896991e-04, -4.27192911e-02,\n",
       "          3.10555027e-03,  3.61161854e-02, -8.23657635e-02,\n",
       "          3.47043023e-02, -4.83451514e-02,  2.60883956e-03,\n",
       "         -2.58029218e-05,  2.92546005e-03, -2.23917344e-02,\n",
       "          2.37523061e-02, -1.91425809e-02, -1.06472705e-04,\n",
       "         -2.33146823e-02, -1.36535221e-02,  8.07374952e-03,\n",
       "          7.29248844e-05,  6.84695993e-03,  7.33783242e-05,\n",
       "          1.03531160e-02, -9.38890974e-03,  1.59447795e-03,\n",
       "          1.12041548e-03,  5.73752299e-03,  1.63448762e-02,\n",
       "          2.71817934e-02,  7.12519312e-04,  5.23166216e-02,\n",
       "          1.29361885e-02,  2.73641104e-03,  1.94106618e-03,\n",
       "          1.56209299e-02,  1.95893501e-03, -3.73899363e-02,\n",
       "         -5.81757663e-02],\n",
       "        [ 1.58585077e-02, -3.43933910e-02,  6.50861417e-03,\n",
       "          4.51710814e-03,  4.25595317e-03, -6.65893465e-04,\n",
       "          5.75119029e-03, -2.91502304e-02,  9.09042113e-04,\n",
       "         -1.06003463e-02,  3.01878953e-03, -2.33945182e-02,\n",
       "          4.51859064e-03, -5.78730563e-02, -5.45345396e-03,\n",
       "          3.31666111e-03, -1.13607553e-02,  1.92837269e-02,\n",
       "         -2.09568134e-03, -2.83541147e-02, -1.32047825e-04,\n",
       "          1.08880331e-02,  1.01546750e-02,  3.83749357e-03,\n",
       "         -3.33826948e-02,  2.20265070e-02,  1.43616182e-03,\n",
       "         -3.88540937e-03,  9.94874419e-04, -8.51722821e-03,\n",
       "         -2.78683287e-03, -8.09754100e-03,  2.49204561e-04,\n",
       "         -9.41984003e-03,  2.80002973e-02,  3.66128606e-03,\n",
       "          4.85491877e-05,  8.53479194e-04, -2.59427613e-02,\n",
       "         -6.85555533e-03,  5.00902750e-02,  2.84066623e-04,\n",
       "          5.37964047e-03, -4.88435580e-02,  2.68435253e-02,\n",
       "         -1.70793230e-05, -4.75405413e-03,  1.63042895e-04,\n",
       "          4.48828143e-03,  1.02884431e-02, -2.93305362e-02,\n",
       "          1.20091358e-03,  1.87468380e-03, -2.05254636e-02,\n",
       "         -3.18584468e-02, -2.45350639e-03, -1.84034476e-02,\n",
       "         -5.20792250e-03,  2.60141392e-03, -6.66256669e-03,\n",
       "         -3.13647227e-04, -1.78974332e-02, -1.89733599e-02,\n",
       "         -1.75038703e-02],\n",
       "        [-3.81376519e-02, -1.70216999e-02, -9.89000787e-03,\n",
       "          2.83945722e-03,  1.15883402e-02,  5.78101124e-04,\n",
       "          3.33175500e-04,  5.76471613e-03,  1.34549088e-03,\n",
       "          1.78693737e-02,  5.06942677e-03,  1.76564367e-02,\n",
       "          1.67212237e-02, -3.22379184e-02,  1.55482748e-02,\n",
       "          6.84792703e-03,  1.47288765e-02, -7.86727380e-03,\n",
       "         -8.95489056e-03,  2.34439342e-03,  3.91810211e-03,\n",
       "         -3.19970469e-03,  7.74197267e-03,  4.37027029e-03,\n",
       "          3.44297669e-02,  4.37449833e-03,  1.35717195e-03,\n",
       "          7.76634593e-03,  7.30395551e-04, -1.43075285e-02,\n",
       "          3.22109107e-03,  2.10535936e-02, -4.04807735e-03,\n",
       "          3.49355226e-02, -7.16172561e-03,  2.59590791e-04,\n",
       "          4.63109418e-05, -6.39897547e-03, -1.01836858e-03,\n",
       "         -3.23084756e-03,  7.68547148e-03, -3.25323474e-04,\n",
       "         -1.12929559e-02,  7.09373447e-03,  2.91685556e-02,\n",
       "          7.27507554e-05, -1.95885720e-03,  4.15893580e-07,\n",
       "          1.07117396e-02, -4.96914674e-03,  1.47480149e-03,\n",
       "          1.30271723e-03,  3.78154088e-03,  1.55565729e-02,\n",
       "          3.52962984e-02,  1.61458215e-03,  2.03165076e-02,\n",
       "          3.30272578e-03,  6.25944117e-03, -8.33920212e-03,\n",
       "          1.18572061e-02,  1.24195676e-02, -4.16661240e-02,\n",
       "         -1.99171760e-02]]),\n",
       " 'db4': array([[ 0.00010645],\n",
       "        [-0.0150768 ],\n",
       "        [ 0.0003918 ],\n",
       "        [ 0.00113487],\n",
       "        [ 0.00990129],\n",
       "        [ 0.01639741],\n",
       "        [-0.00175086],\n",
       "        [-0.01364227],\n",
       "        [ 0.00439544],\n",
       "        [-0.00185733]]),\n",
       " 'dA3': array([[ 0.00725024,  0.00602864, -0.00660271, ..., -0.0115937 ,\n",
       "         -0.00023057, -0.00709584],\n",
       "        [ 0.00377169, -0.00401012, -0.0120942 , ...,  0.00630764,\n",
       "          0.00911323,  0.01625993],\n",
       "        [-0.02516828, -0.0165302 ,  0.02472359, ...,  0.00934572,\n",
       "          0.00126046, -0.0157753 ],\n",
       "        ...,\n",
       "        [-0.00426529, -0.00119832, -0.0020342 , ..., -0.00456474,\n",
       "          0.00018748,  0.01119384],\n",
       "        [ 0.00118746, -0.00536592, -0.00368758, ...,  0.0146483 ,\n",
       "         -0.01423257,  0.00773579],\n",
       "        [ 0.00275119,  0.00214492,  0.01353049, ...,  0.00508313,\n",
       "         -0.00013911, -0.00108202]]),\n",
       " 'dZ3': array([[ 0.00725024,  0.00602864, -0.00660271, ..., -0.0115937 ,\n",
       "         -0.00023057, -0.00709584],\n",
       "        [ 0.00377169, -0.00401012, -0.0120942 , ...,  0.00630764,\n",
       "          0.00911323,  0.01625993],\n",
       "        [-0.        , -0.        ,  0.02472359, ...,  0.        ,\n",
       "          0.00126046, -0.        ],\n",
       "        ...,\n",
       "        [-0.00426529, -0.00119832, -0.0020342 , ..., -0.00456474,\n",
       "          0.        ,  0.01119384],\n",
       "        [ 0.00118746, -0.00536592, -0.00368758, ...,  0.0146483 ,\n",
       "         -0.01423257,  0.00773579],\n",
       "        [ 0.00275119,  0.00214492,  0.        , ...,  0.00508313,\n",
       "         -0.00013911, -0.00108202]]),\n",
       " 'dW3': array([[-3.53805157e-03,  7.23279581e-03,  8.30977021e-05, ...,\n",
       "          8.28568416e-04,  3.55512646e-03,  1.95282267e-03],\n",
       "        [ 8.04235010e-03, -4.87449020e-03, -9.35706427e-04, ...,\n",
       "         -4.70764819e-05, -2.49146895e-03, -7.89259992e-03],\n",
       "        [-6.29546892e-03,  6.92276655e-03,  8.96039735e-05, ...,\n",
       "          9.47376582e-03,  8.33164804e-04,  2.92453260e-03],\n",
       "        ...,\n",
       "        [ 5.28897530e-03, -6.94614442e-03, -3.19604238e-04, ...,\n",
       "         -8.09098461e-03,  6.50989086e-04,  3.14244817e-03],\n",
       "        [-7.09334528e-03, -5.87381460e-04, -1.64459868e-03, ...,\n",
       "         -7.32841154e-03,  3.95546386e-04,  2.51400173e-03],\n",
       "        [ 3.84231053e-03, -1.12424207e-02,  1.38728821e-03, ...,\n",
       "         -8.99852845e-03, -5.53538421e-03,  1.05537278e-03]]),\n",
       " 'db3': array([[-1.84990582e-04],\n",
       "        [ 2.36076535e-04],\n",
       "        [ 2.49450075e-04],\n",
       "        [ 1.13030312e-04],\n",
       "        [ 2.75100156e-04],\n",
       "        [ 3.70084143e-04],\n",
       "        [ 3.04879565e-05],\n",
       "        [ 2.87710690e-04],\n",
       "        [-1.28162926e-04],\n",
       "        [ 5.75734260e-05],\n",
       "        [ 1.62326688e-04],\n",
       "        [ 6.76199422e-06],\n",
       "        [ 3.04719703e-04],\n",
       "        [ 2.61511994e-04],\n",
       "        [ 3.67562151e-04],\n",
       "        [-5.27865738e-05],\n",
       "        [ 1.46156613e-04],\n",
       "        [-5.73491830e-04],\n",
       "        [ 4.04003725e-04],\n",
       "        [-4.21227783e-04],\n",
       "        [ 1.24818601e-04],\n",
       "        [ 9.88648447e-04],\n",
       "        [-3.27959803e-04],\n",
       "        [ 2.05487982e-04],\n",
       "        [ 1.23348905e-03],\n",
       "        [ 1.06859177e-04],\n",
       "        [-1.33451794e-04],\n",
       "        [ 2.08763249e-04],\n",
       "        [ 9.64219537e-05],\n",
       "        [ 5.14945506e-04],\n",
       "        [ 1.68325151e-04],\n",
       "        [ 1.92928728e-06],\n",
       "        [-6.15356084e-04],\n",
       "        [ 1.93174402e-04],\n",
       "        [ 1.57447706e-04],\n",
       "        [ 3.18517642e-04],\n",
       "        [ 6.71602582e-06],\n",
       "        [ 5.56901434e-04],\n",
       "        [ 1.10530224e-03],\n",
       "        [-9.47870075e-05],\n",
       "        [-1.61928606e-04],\n",
       "        [ 3.77309182e-05],\n",
       "        [ 4.40366478e-04],\n",
       "        [ 2.31869914e-05],\n",
       "        [-2.98598635e-04],\n",
       "        [-5.07931093e-06],\n",
       "        [-2.30697224e-04],\n",
       "        [-1.26149470e-04],\n",
       "        [-2.00929708e-04],\n",
       "        [-6.58636774e-04],\n",
       "        [-6.22343413e-04],\n",
       "        [-2.22826170e-04],\n",
       "        [-2.78335687e-05],\n",
       "        [ 3.76669081e-04],\n",
       "        [-6.89428734e-04],\n",
       "        [ 2.34593303e-05],\n",
       "        [-5.00123742e-05],\n",
       "        [ 1.04428346e-03],\n",
       "        [-3.00643732e-05],\n",
       "        [-2.20505947e-04],\n",
       "        [ 8.34717102e-04],\n",
       "        [ 1.71913387e-04],\n",
       "        [ 2.30926413e-04],\n",
       "        [-4.91607452e-05]]),\n",
       " 'dA2': array([[ 2.77697101e-04,  5.00592294e-04, -6.32291008e-04, ...,\n",
       "          4.83582902e-04, -1.68560564e-04, -7.10002431e-04],\n",
       "        [-1.35181677e-04, -4.54080134e-04, -4.07936985e-04, ...,\n",
       "          6.24102544e-04,  6.28493548e-04,  1.87663884e-04],\n",
       "        [-5.60599721e-04, -2.71303376e-04, -8.49789463e-05, ...,\n",
       "          6.15955747e-04,  3.61794631e-04,  7.06650688e-04],\n",
       "        ...,\n",
       "        [-1.91018125e-04, -2.86805443e-04,  4.87794030e-04, ...,\n",
       "          3.02309684e-04, -5.67288558e-04,  3.76588152e-05],\n",
       "        [-2.57448646e-04,  5.40395233e-04, -5.67672307e-05, ...,\n",
       "          1.30925422e-04,  2.11261750e-04, -4.91459660e-04],\n",
       "        [-5.76178605e-04, -2.16953378e-04,  7.54007500e-04, ...,\n",
       "          1.58303235e-04, -6.28987396e-04, -1.68867385e-04]]),\n",
       " 'dZ2': array([[ 0.00000000e+00,  5.00592294e-04, -0.00000000e+00, ...,\n",
       "          4.83582902e-04, -1.68560564e-04, -7.10002431e-04],\n",
       "        [-1.35181677e-04, -4.54080134e-04, -4.07936985e-04, ...,\n",
       "          6.24102544e-04,  6.28493548e-04,  1.87663884e-04],\n",
       "        [-0.00000000e+00, -2.71303376e-04, -8.49789463e-05, ...,\n",
       "          0.00000000e+00,  0.00000000e+00,  0.00000000e+00],\n",
       "        ...,\n",
       "        [-1.91018125e-04, -2.86805443e-04,  4.87794030e-04, ...,\n",
       "          3.02309684e-04, -5.67288558e-04,  3.76588152e-05],\n",
       "        [-0.00000000e+00,  0.00000000e+00, -0.00000000e+00, ...,\n",
       "          0.00000000e+00,  0.00000000e+00, -0.00000000e+00],\n",
       "        [-0.00000000e+00, -0.00000000e+00,  7.54007500e-04, ...,\n",
       "          1.58303235e-04, -0.00000000e+00, -0.00000000e+00]]),\n",
       " 'dW2': array([[-3.91981534e-04, -7.25648930e-04,  2.32075743e-04, ...,\n",
       "         -3.59348116e-04, -2.22851617e-04,  1.45069891e-07],\n",
       "        [-1.00423532e-03,  4.31002792e-04, -1.74890568e-04, ...,\n",
       "          4.01480877e-05,  1.05317827e-04,  1.56620220e-05],\n",
       "        [-8.19436258e-05,  1.63275472e-04, -9.55143984e-05, ...,\n",
       "          1.20690764e-05,  1.32431630e-04, -4.02050024e-05],\n",
       "        ...,\n",
       "        [-1.75397816e-03, -2.55219060e-04, -1.39074121e-04, ...,\n",
       "          1.49832447e-03, -1.54636442e-05,  2.68213503e-04],\n",
       "        [ 4.46336679e-04, -1.93883957e-06,  7.21691673e-05, ...,\n",
       "          3.68681614e-04, -2.72822632e-05,  1.72157980e-05],\n",
       "        [-2.63619814e-04, -1.93159358e-04,  8.98319134e-05, ...,\n",
       "         -1.34242532e-03, -3.63327141e-05, -2.92882219e-04]]),\n",
       " 'db2': array([[-7.59474062e-05],\n",
       "        [ 1.37797112e-05],\n",
       "        [ 9.80389893e-06],\n",
       "        [-5.78657728e-05],\n",
       "        [ 2.80237544e-05],\n",
       "        [ 6.59635536e-06],\n",
       "        [ 4.55740321e-05],\n",
       "        [ 3.48589714e-05],\n",
       "        [ 2.16089393e-06],\n",
       "        [-4.94052230e-06],\n",
       "        [-8.33447091e-06],\n",
       "        [-1.94459703e-06],\n",
       "        [ 1.07245680e-05],\n",
       "        [-4.40737053e-05],\n",
       "        [ 4.47141877e-05],\n",
       "        [ 8.28266029e-07],\n",
       "        [ 2.04362064e-05],\n",
       "        [ 5.55182368e-05],\n",
       "        [-1.98690669e-05],\n",
       "        [-2.69012577e-05],\n",
       "        [-1.97673928e-05],\n",
       "        [ 1.65505655e-06],\n",
       "        [ 1.16608936e-05],\n",
       "        [-3.78164316e-05],\n",
       "        [-5.13765350e-05],\n",
       "        [ 2.79321466e-05],\n",
       "        [-7.88541899e-07],\n",
       "        [-1.23616191e-06],\n",
       "        [ 5.46645250e-06],\n",
       "        [ 1.21413189e-05],\n",
       "        [-1.59424637e-07],\n",
       "        [-6.35884569e-07],\n",
       "        [-9.29348629e-06],\n",
       "        [ 3.75981953e-05],\n",
       "        [ 1.84667731e-05],\n",
       "        [-6.50202693e-06],\n",
       "        [-1.51283213e-05],\n",
       "        [ 3.58100995e-05],\n",
       "        [ 2.42545893e-07],\n",
       "        [ 1.30186700e-05],\n",
       "        [ 1.71789816e-05],\n",
       "        [ 2.72854290e-05],\n",
       "        [-2.27764344e-05],\n",
       "        [ 1.01085883e-05],\n",
       "        [ 7.80079988e-07],\n",
       "        [ 7.54212844e-06],\n",
       "        [-1.53118385e-05],\n",
       "        [ 1.36994420e-05],\n",
       "        [-2.15109940e-05],\n",
       "        [ 2.01628879e-05],\n",
       "        [-1.17256893e-05],\n",
       "        [-8.78814010e-06],\n",
       "        [-2.63977264e-06],\n",
       "        [ 1.62305808e-05],\n",
       "        [-2.54130970e-05],\n",
       "        [-4.90072210e-05],\n",
       "        [ 1.94811816e-05],\n",
       "        [-2.83965796e-05],\n",
       "        [-9.66634324e-05],\n",
       "        [-7.97447089e-06],\n",
       "        [-1.37438337e-04],\n",
       "        [-4.69896137e-05],\n",
       "        [-3.45344167e-07],\n",
       "        [ 1.21425956e-05],\n",
       "        [ 3.96577729e-05],\n",
       "        [-4.98819227e-06],\n",
       "        [ 1.16801067e-05],\n",
       "        [-2.47413423e-06],\n",
       "        [-1.54607502e-05],\n",
       "        [ 8.78392592e-06],\n",
       "        [ 1.10761113e-05],\n",
       "        [-1.59878155e-05],\n",
       "        [ 4.21148967e-05],\n",
       "        [-4.74330526e-05],\n",
       "        [-6.68103628e-07],\n",
       "        [-5.52536525e-06],\n",
       "        [-3.37983614e-05],\n",
       "        [ 1.42462641e-05],\n",
       "        [ 2.77357650e-06],\n",
       "        [-1.35587903e-06],\n",
       "        [-1.15119395e-06],\n",
       "        [ 1.18705708e-05],\n",
       "        [-8.16792770e-06],\n",
       "        [ 1.67958750e-05],\n",
       "        [-5.83276517e-05],\n",
       "        [-2.54686944e-05],\n",
       "        [-2.15219669e-05],\n",
       "        [ 1.74017384e-05],\n",
       "        [ 6.59367018e-06],\n",
       "        [-3.07142519e-05],\n",
       "        [-9.85520405e-06],\n",
       "        [-4.33635151e-05],\n",
       "        [ 6.54655509e-06],\n",
       "        [-1.17527917e-05],\n",
       "        [-2.39687275e-07],\n",
       "        [-6.94732546e-05],\n",
       "        [ 5.32832418e-06],\n",
       "        [-1.16777511e-05],\n",
       "        [ 2.53437853e-06],\n",
       "        [ 2.42055272e-05],\n",
       "        [-1.90002600e-05],\n",
       "        [ 1.42173128e-05],\n",
       "        [-1.25976426e-05],\n",
       "        [ 8.04820974e-05],\n",
       "        [-1.96386664e-05],\n",
       "        [ 7.02276111e-06],\n",
       "        [-2.09181301e-05],\n",
       "        [ 2.69454717e-06],\n",
       "        [ 2.47600088e-08],\n",
       "        [-2.26182068e-05],\n",
       "        [ 5.74812438e-05],\n",
       "        [ 7.45938918e-06],\n",
       "        [-3.86149875e-06],\n",
       "        [ 4.17573636e-05],\n",
       "        [ 1.99477007e-05],\n",
       "        [-3.98065633e-05],\n",
       "        [-4.38864760e-06],\n",
       "        [ 1.80516328e-05],\n",
       "        [-2.22677459e-06],\n",
       "        [ 2.32690133e-05],\n",
       "        [ 6.00737207e-06],\n",
       "        [-1.05472097e-06],\n",
       "        [-3.25943259e-05],\n",
       "        [ 7.80421358e-06],\n",
       "        [ 3.40485081e-05],\n",
       "        [ 3.66270353e-05],\n",
       "        [ 7.54426680e-06],\n",
       "        [-1.03882927e-05],\n",
       "        [ 2.74691612e-06],\n",
       "        [-2.32736101e-06],\n",
       "        [ 4.49087353e-05],\n",
       "        [ 7.49042633e-05],\n",
       "        [-1.52527037e-05],\n",
       "        [-6.75146942e-07],\n",
       "        [-5.22567160e-05],\n",
       "        [-5.04886526e-05],\n",
       "        [ 1.62030305e-05],\n",
       "        [ 1.31098705e-05],\n",
       "        [ 1.91750445e-05],\n",
       "        [-6.67181365e-06],\n",
       "        [-2.63459135e-06],\n",
       "        [-9.96767150e-06],\n",
       "        [-5.26046334e-05],\n",
       "        [-1.93033073e-05],\n",
       "        [-5.34906419e-05],\n",
       "        [ 6.18973054e-06],\n",
       "        [-1.70672314e-07],\n",
       "        [ 2.56642833e-05],\n",
       "        [ 9.49019874e-07],\n",
       "        [-1.17927099e-05],\n",
       "        [-2.98383838e-06],\n",
       "        [ 3.89976535e-05],\n",
       "        [ 5.74242873e-05],\n",
       "        [ 1.65847253e-05],\n",
       "        [-2.26936403e-05],\n",
       "        [ 1.96123622e-05],\n",
       "        [-2.53371863e-06],\n",
       "        [ 2.13544318e-05],\n",
       "        [ 3.13360368e-06],\n",
       "        [ 1.58800683e-05],\n",
       "        [ 5.02405382e-05],\n",
       "        [-4.27093556e-05],\n",
       "        [-5.34818422e-06],\n",
       "        [-8.54594915e-05],\n",
       "        [-2.42104610e-05],\n",
       "        [ 4.35798957e-05],\n",
       "        [-3.53924005e-05],\n",
       "        [-1.68527705e-05],\n",
       "        [ 7.87639155e-06],\n",
       "        [ 1.95492825e-05],\n",
       "        [ 1.92654487e-05],\n",
       "        [-3.85576884e-05],\n",
       "        [ 2.19287937e-05],\n",
       "        [-1.07737515e-05],\n",
       "        [-2.27545531e-05],\n",
       "        [ 1.34136996e-05],\n",
       "        [-1.16417469e-05],\n",
       "        [-4.02430399e-05],\n",
       "        [-2.17048660e-06],\n",
       "        [ 8.24013996e-05],\n",
       "        [ 2.25208711e-05],\n",
       "        [-3.09164295e-05],\n",
       "        [ 5.36272589e-06],\n",
       "        [-1.68862252e-06],\n",
       "        [-2.09671550e-06],\n",
       "        [-1.48083012e-06],\n",
       "        [ 1.12480859e-05],\n",
       "        [-4.02645378e-06],\n",
       "        [ 5.65842692e-06],\n",
       "        [-1.04606700e-06],\n",
       "        [ 5.78931288e-06],\n",
       "        [ 9.93422351e-06],\n",
       "        [ 3.66098683e-05],\n",
       "        [ 3.91051679e-05],\n",
       "        [ 4.09730571e-05],\n",
       "        [ 2.19501393e-05],\n",
       "        [ 4.17461823e-05],\n",
       "        [ 7.37565251e-06],\n",
       "        [-8.90718099e-09],\n",
       "        [ 5.04949634e-05],\n",
       "        [-6.76065800e-05],\n",
       "        [-6.63869637e-07],\n",
       "        [-4.90859236e-07],\n",
       "        [-2.91156146e-06],\n",
       "        [ 2.56015648e-05],\n",
       "        [ 3.64226262e-05],\n",
       "        [ 5.36049836e-05],\n",
       "        [ 1.70166063e-05],\n",
       "        [-2.17055839e-05],\n",
       "        [-3.50569477e-05],\n",
       "        [ 3.57588630e-05],\n",
       "        [ 2.30840338e-05],\n",
       "        [-4.39736412e-05],\n",
       "        [ 1.90554301e-05],\n",
       "        [ 1.76326977e-05],\n",
       "        [-9.00573790e-06],\n",
       "        [-1.37630515e-07],\n",
       "        [-2.63093236e-05],\n",
       "        [ 3.91720886e-05],\n",
       "        [-2.56761435e-05],\n",
       "        [-9.94849731e-06],\n",
       "        [-3.78607566e-05],\n",
       "        [ 6.66242024e-06],\n",
       "        [ 5.05826055e-05],\n",
       "        [-6.04353651e-06],\n",
       "        [ 7.79804133e-05],\n",
       "        [-1.28726681e-06],\n",
       "        [ 2.80754427e-05],\n",
       "        [ 3.87409107e-05],\n",
       "        [ 7.48993396e-07],\n",
       "        [ 1.27482789e-05],\n",
       "        [-1.09883446e-05],\n",
       "        [-5.73773043e-05],\n",
       "        [ 3.23897403e-05],\n",
       "        [ 3.48646344e-05],\n",
       "        [-4.64441264e-07],\n",
       "        [-1.73173574e-05],\n",
       "        [-6.19108256e-06],\n",
       "        [-4.05798705e-05],\n",
       "        [-7.86370058e-07],\n",
       "        [ 1.57435954e-05],\n",
       "        [ 2.31122689e-07],\n",
       "        [-1.84878179e-05],\n",
       "        [-1.08288416e-05],\n",
       "        [-3.39834599e-05],\n",
       "        [ 5.68001833e-06],\n",
       "        [-2.34785387e-06],\n",
       "        [ 4.36527550e-05],\n",
       "        [-6.21801991e-06],\n",
       "        [-4.61594975e-05],\n",
       "        [ 1.67180886e-05],\n",
       "        [-1.13912933e-05],\n",
       "        [ 1.08548456e-05],\n",
       "        [-2.17306694e-05],\n",
       "        [-1.86146967e-05],\n",
       "        [ 7.98181194e-05],\n",
       "        [-1.45066911e-05],\n",
       "        [-2.38262625e-05],\n",
       "        [-1.47242837e-05],\n",
       "        [ 6.19946806e-05],\n",
       "        [ 8.35838055e-07],\n",
       "        [-3.07387732e-05],\n",
       "        [ 7.72749779e-06],\n",
       "        [-6.17371354e-06],\n",
       "        [ 2.87713261e-05],\n",
       "        [-1.46344909e-05],\n",
       "        [ 3.44208192e-06],\n",
       "        [-2.48477046e-05],\n",
       "        [-3.82213758e-05],\n",
       "        [-4.90757372e-05],\n",
       "        [-2.65033850e-05],\n",
       "        [ 5.37929673e-05],\n",
       "        [ 5.60963440e-05],\n",
       "        [ 1.32638530e-05],\n",
       "        [-2.15609274e-05],\n",
       "        [ 3.56379426e-05],\n",
       "        [-7.23441901e-06],\n",
       "        [-5.41923007e-05],\n",
       "        [ 4.37859876e-07],\n",
       "        [ 3.09757246e-05],\n",
       "        [ 7.61142385e-05],\n",
       "        [ 4.88928597e-05],\n",
       "        [-5.44348409e-05],\n",
       "        [-3.14514100e-06],\n",
       "        [-2.65964778e-06],\n",
       "        [ 3.89944315e-06],\n",
       "        [-7.06708974e-06],\n",
       "        [ 4.64657986e-05],\n",
       "        [-1.28657208e-05],\n",
       "        [-5.85830736e-05],\n",
       "        [ 1.40596893e-05],\n",
       "        [ 1.07995996e-05],\n",
       "        [-5.77835598e-05],\n",
       "        [-9.98599164e-07],\n",
       "        [-1.72244846e-05],\n",
       "        [-6.82077406e-05],\n",
       "        [ 2.28511353e-05],\n",
       "        [-5.93607878e-06],\n",
       "        [ 2.31737894e-05],\n",
       "        [-7.21300415e-06],\n",
       "        [-4.51794121e-05],\n",
       "        [-2.62170777e-05],\n",
       "        [-1.48348322e-06],\n",
       "        [-1.10886299e-05],\n",
       "        [ 1.25123317e-06],\n",
       "        [-9.11781856e-06],\n",
       "        [ 2.03668954e-05],\n",
       "        [ 2.73758990e-05],\n",
       "        [-2.20225267e-05],\n",
       "        [ 1.07299025e-05],\n",
       "        [ 1.74099479e-05],\n",
       "        [-1.53502787e-05],\n",
       "        [ 1.91289850e-05],\n",
       "        [ 1.83123810e-06],\n",
       "        [-4.85374976e-06],\n",
       "        [ 1.11026551e-05],\n",
       "        [ 2.86277681e-05],\n",
       "        [-2.97320233e-05],\n",
       "        [-7.71445972e-06],\n",
       "        [-1.88469761e-05],\n",
       "        [ 3.92020002e-05],\n",
       "        [-4.12821665e-05],\n",
       "        [-2.30711150e-05],\n",
       "        [ 3.11507778e-05],\n",
       "        [-3.08031159e-06],\n",
       "        [ 4.09613873e-06],\n",
       "        [-2.31235236e-05],\n",
       "        [-2.24515804e-05],\n",
       "        [ 3.70595985e-05],\n",
       "        [ 2.17080041e-06],\n",
       "        [-1.31811751e-05],\n",
       "        [-2.66908756e-05],\n",
       "        [-1.13704618e-05],\n",
       "        [-5.52284241e-06],\n",
       "        [ 4.93619051e-05],\n",
       "        [ 1.73707913e-05],\n",
       "        [-5.89839800e-06],\n",
       "        [-9.64634999e-06],\n",
       "        [ 4.09063714e-05],\n",
       "        [ 7.02470719e-06],\n",
       "        [-2.03218242e-05],\n",
       "        [ 4.54440085e-05],\n",
       "        [ 3.48271521e-06],\n",
       "        [-4.38116243e-06],\n",
       "        [-5.52822895e-06],\n",
       "        [-3.42084160e-05],\n",
       "        [-3.39292640e-05],\n",
       "        [ 1.25786197e-05],\n",
       "        [-1.59035797e-05],\n",
       "        [ 1.69443795e-05],\n",
       "        [-5.28650816e-05],\n",
       "        [-4.27360786e-05],\n",
       "        [-6.98796622e-06],\n",
       "        [ 3.29288116e-05],\n",
       "        [ 4.55628478e-05],\n",
       "        [ 7.27502296e-07],\n",
       "        [-2.45231058e-05],\n",
       "        [-3.89134218e-05],\n",
       "        [ 6.48598236e-05],\n",
       "        [-4.29571938e-05],\n",
       "        [ 6.27226602e-05],\n",
       "        [-2.00957085e-06],\n",
       "        [-5.83631029e-05],\n",
       "        [-1.25853976e-06],\n",
       "        [-2.03004548e-06],\n",
       "        [ 5.00157100e-05],\n",
       "        [ 1.99529604e-05],\n",
       "        [-7.79270428e-06],\n",
       "        [-3.71287441e-05],\n",
       "        [-5.20900616e-05],\n",
       "        [-3.10611738e-05],\n",
       "        [ 3.36183029e-05],\n",
       "        [-1.32321761e-06],\n",
       "        [-3.82525937e-05],\n",
       "        [ 5.19904360e-05],\n",
       "        [-2.46062030e-06],\n",
       "        [-2.14004755e-05],\n",
       "        [-1.03974383e-06],\n",
       "        [-4.05200455e-06],\n",
       "        [-1.34231416e-06],\n",
       "        [ 3.64997164e-05],\n",
       "        [-1.83260182e-05],\n",
       "        [ 5.44613985e-06],\n",
       "        [-8.32091298e-06],\n",
       "        [-9.89314368e-06],\n",
       "        [ 3.98649810e-05],\n",
       "        [-2.15127077e-05],\n",
       "        [ 1.85107800e-05],\n",
       "        [-1.87049853e-05],\n",
       "        [-2.65772862e-05],\n",
       "        [ 4.49274983e-05],\n",
       "        [-7.39637631e-06],\n",
       "        [ 6.67178935e-06],\n",
       "        [ 1.76026219e-05],\n",
       "        [ 2.74907545e-06],\n",
       "        [-2.39962382e-05],\n",
       "        [-1.37052669e-05],\n",
       "        [-8.45801638e-06],\n",
       "        [-6.57898375e-06],\n",
       "        [-5.20863790e-05],\n",
       "        [-1.96070876e-05],\n",
       "        [-2.41771647e-05],\n",
       "        [ 7.01171296e-05],\n",
       "        [ 9.90826438e-06],\n",
       "        [ 3.33288337e-06],\n",
       "        [-3.05651425e-05],\n",
       "        [ 3.29286756e-05],\n",
       "        [-1.79915067e-05],\n",
       "        [ 3.33759760e-05],\n",
       "        [ 8.78810614e-06],\n",
       "        [ 5.96704803e-05],\n",
       "        [-1.28254523e-05],\n",
       "        [-4.89156922e-05],\n",
       "        [ 1.75983638e-05],\n",
       "        [ 6.75840414e-06],\n",
       "        [-3.14505546e-06],\n",
       "        [ 1.49083716e-05],\n",
       "        [ 4.89457887e-05],\n",
       "        [ 4.34372221e-07],\n",
       "        [-2.71921351e-05],\n",
       "        [-1.65813246e-06],\n",
       "        [ 3.11599474e-05],\n",
       "        [ 3.07608146e-05],\n",
       "        [ 8.23081529e-06],\n",
       "        [-1.10901027e-08],\n",
       "        [ 3.80451343e-08],\n",
       "        [-1.41904372e-05],\n",
       "        [-3.03466900e-05],\n",
       "        [ 3.78720412e-05],\n",
       "        [-1.02669820e-05],\n",
       "        [ 1.92081498e-05],\n",
       "        [-1.91488383e-05],\n",
       "        [ 2.61431055e-05],\n",
       "        [ 3.68419282e-05],\n",
       "        [ 3.25600455e-05],\n",
       "        [ 1.02129545e-04],\n",
       "        [ 8.49971132e-06],\n",
       "        [-2.27113054e-05],\n",
       "        [-5.77959807e-06],\n",
       "        [ 1.11496323e-05],\n",
       "        [ 1.00402584e-05],\n",
       "        [ 1.38831702e-05],\n",
       "        [ 6.05473218e-06],\n",
       "        [ 2.46656377e-05],\n",
       "        [ 1.19333238e-05],\n",
       "        [ 4.62118541e-07],\n",
       "        [ 2.70254703e-05],\n",
       "        [-3.99397711e-05]]),\n",
       " 'dA1': array([[-2.23925494e-05, -5.94148802e-05, -8.46779905e-05, ...,\n",
       "          8.53540499e-05,  3.72455637e-05,  1.95925716e-05],\n",
       "        [ 3.17707197e-05,  4.29801367e-05, -2.72628662e-05, ...,\n",
       "         -1.67518599e-05, -1.38961980e-04, -8.21739168e-05],\n",
       "        [-6.30795074e-05, -2.76876458e-06,  3.86480630e-05, ...,\n",
       "          7.65343864e-06,  1.34436983e-04,  7.07784351e-05],\n",
       "        ...,\n",
       "        [ 3.81151536e-06, -4.17207384e-05,  1.06910396e-04, ...,\n",
       "         -8.73287620e-05, -3.85390165e-05, -4.42022061e-05],\n",
       "        [-3.94523660e-05, -3.52011208e-05, -3.18540476e-05, ...,\n",
       "          1.05174597e-06,  3.76307105e-05,  2.08569110e-05],\n",
       "        [ 1.55190924e-06,  1.97640587e-05,  2.12129180e-05, ...,\n",
       "          1.62983846e-04, -4.62453715e-05,  6.08653669e-05]]),\n",
       " 'dZ1': array([[-2.23925494e-05, -5.94148802e-05, -8.46779905e-05, ...,\n",
       "          8.53540499e-05,  0.00000000e+00,  1.95925716e-05],\n",
       "        [ 0.00000000e+00,  0.00000000e+00, -0.00000000e+00, ...,\n",
       "         -0.00000000e+00, -0.00000000e+00, -8.21739168e-05],\n",
       "        [-6.30795074e-05, -2.76876458e-06,  3.86480630e-05, ...,\n",
       "          7.65343864e-06,  0.00000000e+00,  0.00000000e+00],\n",
       "        ...,\n",
       "        [ 3.81151536e-06, -4.17207384e-05,  0.00000000e+00, ...,\n",
       "         -8.73287620e-05, -0.00000000e+00, -4.42022061e-05],\n",
       "        [-0.00000000e+00, -0.00000000e+00, -3.18540476e-05, ...,\n",
       "          0.00000000e+00,  3.76307105e-05,  0.00000000e+00],\n",
       "        [ 0.00000000e+00,  1.97640587e-05,  0.00000000e+00, ...,\n",
       "          0.00000000e+00, -4.62453715e-05,  0.00000000e+00]]),\n",
       " 'dW1': array([[0., 0., 0., ..., 0., 0., 0.],\n",
       "        [0., 0., 0., ..., 0., 0., 0.],\n",
       "        [0., 0., 0., ..., 0., 0., 0.],\n",
       "        ...,\n",
       "        [0., 0., 0., ..., 0., 0., 0.],\n",
       "        [0., 0., 0., ..., 0., 0., 0.],\n",
       "        [0., 0., 0., ..., 0., 0., 0.]]),\n",
       " 'db1': array([[ 1.77151400e-06],\n",
       "        [-3.72060780e-06],\n",
       "        [-3.62036092e-06],\n",
       "        ...,\n",
       "        [ 1.99477317e-06],\n",
       "        [-5.29713476e-07],\n",
       "        [ 2.39595677e-06]]),\n",
       " 'dA0': array([[-5.12626268e-06,  1.53891399e-05, -6.02667311e-05, ...,\n",
       "          5.31414454e-05, -5.38482541e-05,  1.87969990e-05],\n",
       "        [ 5.57706394e-05, -1.83089294e-05, -4.04691739e-05, ...,\n",
       "          2.90851190e-05, -5.74291050e-05, -3.59617156e-05],\n",
       "        [-4.60666213e-05, -3.51020759e-06,  3.20796192e-05, ...,\n",
       "         -4.73581049e-05,  8.67098854e-05,  1.62233109e-05],\n",
       "        ...,\n",
       "        [-1.14851884e-05, -1.28536172e-05, -3.25074057e-05, ...,\n",
       "          1.28823446e-06,  1.47369743e-05,  6.21952574e-06],\n",
       "        [ 2.52889112e-05,  6.61768259e-06, -5.60285148e-05, ...,\n",
       "          5.82827222e-05,  7.39362545e-05,  6.42828888e-06],\n",
       "        [ 1.07794311e-05, -2.37410391e-05,  3.81957399e-05, ...,\n",
       "          2.91537979e-05, -1.09182365e-05, -1.82649338e-05]])}"
      ]
     },
     "execution_count": 42,
     "metadata": {},
     "output_type": "execute_result"
    }
   ],
   "source": [
    "grd"
   ]
  },
  {
   "cell_type": "code",
   "execution_count": 43,
   "id": "02a49429",
   "metadata": {},
   "outputs": [],
   "source": [
    "def initialize(parameters):\n",
    "    v = {}\n",
    "    s = {}\n",
    "    L = len(parameters) // 2\n",
    "    for i in range(1, L + 1):\n",
    "        v[\"dW\" + str(i)] = np.zeros((parameters[\"W\" + str(i)].shape[0], parameters[\"W\" + str(i)].shape[1]))\n",
    "        v[\"db\" + str(i)] = np.zeros((parameters[\"b\" + str(i)].shape[0], parameters[\"b\" + str(i)].shape[1]))\n",
    "        s[\"dW\" + str(i)] = np.zeros((parameters[\"W\" + str(i)].shape[0], parameters[\"W\" + str(i)].shape[1]))\n",
    "        s[\"db\" + str(i)] = np.zeros((parameters[\"b\" + str(i)].shape[0], parameters[\"b\" + str(i)].shape[1]))\n",
    "    return v, s"
   ]
  },
  {
   "cell_type": "code",
   "execution_count": 44,
   "id": "7e67fed1",
   "metadata": {},
   "outputs": [
    {
     "data": {
      "text/plain": [
       "(3136, 10000)"
      ]
     },
     "execution_count": 44,
     "metadata": {},
     "output_type": "execute_result"
    }
   ],
   "source": [
    "grd[\"dA1\"].shape"
   ]
  },
  {
   "cell_type": "code",
   "execution_count": 45,
   "id": "fee1efc4",
   "metadata": {},
   "outputs": [],
   "source": [
    "def update_parameters(parameters, grads, v, s, t, learning_rate = 0.01, \n",
    "                      beta1 = 0.9, beta2 = 0.999,  epsilon = 1e-8):\n",
    "    L = len(parameters) // 2\n",
    "    v_corrected = {}\n",
    "    s_corrected = {} \n",
    "    for i in range(1, L + 1):\n",
    "        v[\"dW\" + str(i)] = beta1 * v[\"dW\" + str(i)] + (1 - beta1) * grads[\"dW\" + str(i)]\n",
    "        v[\"db\" + str(i)] = beta1 * v[\"db\" + str(i)] + (1 - beta1) * grads[\"db\" + str(i)]\n",
    "        v_corrected[\"dW\" + str(i)] =  v[\"dW\" + str(i)] / (1 - beta1**t)\n",
    "        v_corrected[\"db\" + str(i)] =  v[\"db\" + str(i)] / (1 - beta1**t)\n",
    "        s[\"dW\" + str(i)] = beta2 * s[\"dW\" + str(i)] + (1 - beta2) * grads[\"dW\" + str(i)]**2\n",
    "        s[\"db\" + str(i)] = beta2 * s[\"db\" + str(i)] + (1 - beta2) * grads[\"db\" + str(i)]**2\n",
    "        s_corrected[\"dW\" + str(i)] =  s[\"dW\" + str(i)] / (1 - beta2**t)\n",
    "        s_corrected[\"db\" + str(i)] =  s[\"db\" + str(i)] / (1 - beta2**t)\n",
    "        \n",
    "        parameters[\"W\" + str(i)] -= learning_rate * v_corrected[\"dW\" + str(i)] / (np.sqrt(s_corrected[\"dW\" + str(i)]) + epsilon)\n",
    "        parameters[\"b\" + str(i)] -= learning_rate * v_corrected[\"db\" + str(i)] / (np.sqrt(s_corrected[\"db\" + str(i)]) + epsilon)\n",
    "    \n",
    "    return parameters, v, s, v_corrected, s_corrected\n",
    "        "
   ]
  },
  {
   "cell_type": "code",
   "execution_count": 98,
   "id": "c57af5f8",
   "metadata": {},
   "outputs": [],
   "source": [
    "def model(X, Y, layers_dims, learning_rate = 0.0007, mini_batch_size = 64, beta = 0.9,\n",
    "          beta1 = 0.9, beta2 = 0.999,  epsilon = 1e-8, num_epochs = 100, print_cost = True):\n",
    "    L = len(layer_dims)\n",
    "    parameters = initialize_parameters(layer_dims)\n",
    "    costs = []\n",
    "    t = 0\n",
    "    seed = 10\n",
    "    m = X.shape[1]\n",
    "    v, s = initialize(parameters)\n",
    "    \n",
    "    for i in range(num_epochs):\n",
    "        seed += 1\n",
    "        minibatches = random_minibatches(X, Y, mini_batch_size, seed)\n",
    "        cost_total = 0\n",
    "        \n",
    "        for minibatch in minibatches:\n",
    "            (minibatch_X, minibatch_Y) = minibatch\n",
    "            cache = forward_prop(parameters, minibatch_X)\n",
    "            cost_total += compute_cost(cache, minibatch_Y)\n",
    "            grads = backward_prop(parameters, cache, minibatch_Y)\n",
    "            t += 1\n",
    "            parameters, v, s, _, _ = update_parameters(parameters, grads, v, s,\n",
    "                                                               t, learning_rate, beta1, beta2,  epsilon)\n",
    "            cost_avg = cost_total/m\n",
    "        \n",
    "        if print_cost and i % 10 == 0:\n",
    "            print (\"Cost after epoch %i: %f\" %(i, cost_avg))\n",
    "        if print_cost:\n",
    "            costs.append(cost_avg[0][0])\n",
    "    \n",
    "    x = list(range(num_epochs))\n",
    "    plt.plot(x, costs)\n",
    "    plt.xlabel(\"Number of Epochs\")\n",
    "    plt.ylabel(\"Cost\")\n",
    "    plt.title(\"Learning rate \" + str(learning_rate))\n",
    "    plt.show()\n",
    "    \n",
    "    return parameters, costs"
   ]
  },
  {
   "cell_type": "code",
   "execution_count": 99,
   "id": "21941a19",
   "metadata": {},
   "outputs": [
    {
     "name": "stdout",
     "output_type": "stream",
     "text": [
      "Cost after epoch 0: 0.010796\n",
      "Cost after epoch 10: 0.000011\n",
      "Cost after epoch 20: 0.000001\n",
      "Cost after epoch 30: 0.000001\n",
      "Cost after epoch 40: 0.000000\n",
      "Cost after epoch 50: 0.000000\n",
      "Cost after epoch 60: 0.000000\n",
      "Cost after epoch 70: 0.000000\n",
      "Cost after epoch 80: 0.000000\n",
      "Cost after epoch 90: 0.000000\n"
     ]
    },
    {
     "data": {
      "image/png": "[encoded data removed]",
      "text/plain": [
       "<Figure size 432x288 with 1 Axes>"
      ]
     },
     "metadata": {
      "needs_background": "light"
     },
     "output_type": "display_data"
    }
   ],
   "source": [
    "layers_dims = [784, 3136, 448, 64, 10]\n",
    "parameters, costs = model(X_train, Y_train, layers_dims)"
   ]
  },
  {
   "cell_type": "code",
   "execution_count": 100,
   "id": "815efa0c",
   "metadata": {},
   "outputs": [
    {
     "data": {
      "text/plain": [
       "array([2.02967734e-14, 5.84612253e-15, 2.22386940e-12, 1.44780226e-11,\n",
       "       1.25958852e-13, 5.39649670e-15, 1.46562002e-20, 9.99995446e-01,\n",
       "       5.23387645e-15, 4.55418507e-06])"
      ]
     },
     "execution_count": 100,
     "metadata": {},
     "output_type": "execute_result"
    }
   ],
   "source": [
    "forward_prop(parameters, X_test)[\"A4\"][:, 666]"
   ]
  },
  {
   "cell_type": "code",
   "execution_count": 101,
   "id": "b3fe37d3",
   "metadata": {},
   "outputs": [
    {
     "data": {
      "text/plain": [
       "array([0., 0., 0., 0., 0., 0., 0., 1., 0., 0.])"
      ]
     },
     "execution_count": 101,
     "metadata": {},
     "output_type": "execute_result"
    }
   ],
   "source": [
    "Y_test[:, 666]"
   ]
  },
  {
   "cell_type": "code",
   "execution_count": 102,
   "id": "9b117c62",
   "metadata": {},
   "outputs": [
    {
     "name": "stdout",
     "output_type": "stream",
     "text": [
      "[0. 0. 0. 0. 0. 0. 0. 1. 0. 0.]\n"
     ]
    },
    {
     "data": {
      "image/png": "[encoded data removed]",
      "text/plain": [
       "<Figure size 432x288 with 1 Axes>"
      ]
     },
     "metadata": {
      "needs_background": "light"
     },
     "output_type": "display_data"
    }
   ],
   "source": [
    "X = np.reshape(X_test[:, 666], (28, 28))\n",
    "plt.gray()\n",
    "\n",
    "plt.imshow(X)\n",
    "print(Y_test[:, 666])"
   ]
  },
  {
   "cell_type": "code",
   "execution_count": 103,
   "id": "a75548be",
   "metadata": {},
   "outputs": [],
   "source": [
    "def predict(parameters, dataset_X, dataset_Y):\n",
    "    L = len(parameters) // 2\n",
    "    res = forward_prop(parameters, dataset_X)\n",
    "    result = res[\"A\" + str(L)]/np.sum(res[\"A\" + str(L)], axis = 0)\n",
    "    answer = []\n",
    "    for i in range(dataset_X.shape[1]):\n",
    "        maximum = max(list(result[:, i]))\n",
    "        index = list(result[:, i]).index(maximum)\n",
    "        answer.append(index)\n",
    "\n",
    "    cost = 1 /(dataset_Y.shape[1]) * compute_cost(res, dataset_Y)\n",
    "    return cost, np.array(answer)"
   ]
  },
  {
   "cell_type": "code",
   "execution_count": 104,
   "id": "8105307e",
   "metadata": {},
   "outputs": [],
   "source": [
    "cost, answer = predict(parameters, X_test, Y_test)"
   ]
  },
  {
   "cell_type": "code",
   "execution_count": 105,
   "id": "2d63f38c",
   "metadata": {},
   "outputs": [
    {
     "data": {
      "text/plain": [
       "array([[0.0846558]])"
      ]
     },
     "execution_count": 105,
     "metadata": {},
     "output_type": "execute_result"
    }
   ],
   "source": [
    "cost"
   ]
  },
  {
   "cell_type": "code",
   "execution_count": 106,
   "id": "9986c30d",
   "metadata": {},
   "outputs": [
    {
     "data": {
      "text/plain": [
       "(1000,)"
      ]
     },
     "execution_count": 106,
     "metadata": {},
     "output_type": "execute_result"
    }
   ],
   "source": [
    "test_set_labels.shape"
   ]
  },
  {
   "cell_type": "code",
   "execution_count": 107,
   "id": "e131f964",
   "metadata": {},
   "outputs": [
    {
     "data": {
      "text/plain": [
       "(1000,)"
      ]
     },
     "execution_count": 107,
     "metadata": {},
     "output_type": "execute_result"
    }
   ],
   "source": [
    "answer.shape"
   ]
  },
  {
   "cell_type": "code",
   "execution_count": 108,
   "id": "1e810377",
   "metadata": {},
   "outputs": [],
   "source": [
    "def check_accuracy(Y_labels, nn_answer):\n",
    "    m = Y_labels.shape[0]\n",
    "    counter = 0\n",
    "    for i in range(m):\n",
    "        if Y_labels[i] - nn_answer[i] != 0:\n",
    "            counter += 1\n",
    "    accuracy = (m - counter)/m * 100\n",
    "    return accuracy"
   ]
  },
  {
   "cell_type": "code",
   "execution_count": 109,
   "id": "10362e9c",
   "metadata": {},
   "outputs": [],
   "source": [
    "accuracy = check_accuracy(test_set_labels, answer)"
   ]
  },
  {
   "cell_type": "code",
   "execution_count": 110,
   "id": "e50e8144",
   "metadata": {},
   "outputs": [
    {
     "data": {
      "text/plain": [
       "87.5"
      ]
     },
     "execution_count": 110,
     "metadata": {},
     "output_type": "execute_result"
    }
   ],
   "source": [
    "accuracy"
   ]
  },
  {
   "cell_type": "code",
   "execution_count": 127,
   "id": "4f80dde0",
   "metadata": {},
   "outputs": [
    {
     "data": {
      "text/plain": [
       "(array([[0.00205191]]), array([4]))"
      ]
     },
     "execution_count": 127,
     "metadata": {},
     "output_type": "execute_result"
    }
   ],
   "source": [
    "predict(parameters, X_test[:, 121].reshape(784, 1), Y_test[:, 121].reshape(10, 1))"
   ]
  },
  {
   "cell_type": "code",
   "execution_count": 128,
   "id": "10321e0e",
   "metadata": {},
   "outputs": [
    {
     "name": "stdout",
     "output_type": "stream",
     "text": [
      "[0. 0. 1. 0. 0. 0. 0. 0. 0. 0.]\n"
     ]
    },
    {
     "data": {
      "image/png": "[encoded data removed]",
      "text/plain": [
       "<Figure size 432x288 with 1 Axes>"
      ]
     },
     "metadata": {
      "needs_background": "light"
     },
     "output_type": "display_data"
    }
   ],
   "source": [
    "X = np.reshape(X_test[:, 121], (28, 28))\n",
    "plt.gray()\n",
    "\n",
    "plt.imshow(X)\n",
    "print(Y_test[:, 221])"
   ]
  },
  {
   "cell_type": "code",
   "execution_count": null,
   "id": "e11a7b86",
   "metadata": {},
   "outputs": [],
   "source": []
  }
 ],
 "metadata": {
  "kernelspec": {
   "display_name": "Python 3 (ipykernel)",
   "language": "python",
   "name": "python3"
  },
  "language_info": {
   "codemirror_mode": {
    "name": "ipython",
    "version": 3
   },
   "file_extension": ".py",
   "mimetype": "text/x-python",
   "name": "python",
   "nbconvert_exporter": "python",
   "pygments_lexer": "ipython3",
   "version": "3.9.7"
  }
 },
 "nbformat": 4,
 "nbformat_minor": 5
}
